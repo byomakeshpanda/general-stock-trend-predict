{
 "cells": [
  {
   "cell_type": "code",
   "execution_count": 9,
   "id": "c94eed58",
   "metadata": {},
   "outputs": [],
   "source": [
    "import streamlit as st\n",
    "import datetime as date\n",
    "import yfinance as yf\n",
    "import pandas_datareader as data"
   ]
  },
  {
   "cell_type": "code",
   "execution_count": 2,
   "id": "5bd3d84f",
   "metadata": {},
   "outputs": [],
   "source": [
    "from plotly import graph_objs as go"
   ]
  },
  {
   "cell_type": "code",
   "execution_count": 7,
   "id": "df8a0845",
   "metadata": {},
   "outputs": [
    {
     "name": "stdout",
     "output_type": "stream",
     "text": [
      "2022-05-17\n"
     ]
    }
   ],
   "source": [
    "start = \"2015-01-01\"\n",
    "today = date.datetime.today().strftime(\"%Y-%m-%d\")\n",
    "print(today)"
   ]
  },
  {
   "cell_type": "code",
   "execution_count": 11,
   "id": "ec4aea1c",
   "metadata": {},
   "outputs": [
    {
     "data": {
      "text/html": [
       "<div>\n",
       "<style scoped>\n",
       "    .dataframe tbody tr th:only-of-type {\n",
       "        vertical-align: middle;\n",
       "    }\n",
       "\n",
       "    .dataframe tbody tr th {\n",
       "        vertical-align: top;\n",
       "    }\n",
       "\n",
       "    .dataframe thead th {\n",
       "        text-align: right;\n",
       "    }\n",
       "</style>\n",
       "<table border=\"1\" class=\"dataframe\">\n",
       "  <thead>\n",
       "    <tr style=\"text-align: right;\">\n",
       "      <th></th>\n",
       "      <th>High</th>\n",
       "      <th>Low</th>\n",
       "      <th>Open</th>\n",
       "      <th>Close</th>\n",
       "      <th>Volume</th>\n",
       "      <th>Adj Close</th>\n",
       "    </tr>\n",
       "    <tr>\n",
       "      <th>Date</th>\n",
       "      <th></th>\n",
       "      <th></th>\n",
       "      <th></th>\n",
       "      <th></th>\n",
       "      <th></th>\n",
       "      <th></th>\n",
       "    </tr>\n",
       "  </thead>\n",
       "  <tbody>\n",
       "    <tr>\n",
       "      <th>2014-12-31</th>\n",
       "      <td>7.9875</td>\n",
       "      <td>7.850</td>\n",
       "      <td>7.9300</td>\n",
       "      <td>7.865</td>\n",
       "      <td>5498800.0</td>\n",
       "      <td>6.539760</td>\n",
       "    </tr>\n",
       "    <tr>\n",
       "      <th>2015-01-02</th>\n",
       "      <td>8.0600</td>\n",
       "      <td>7.915</td>\n",
       "      <td>8.0575</td>\n",
       "      <td>7.975</td>\n",
       "      <td>13401600.0</td>\n",
       "      <td>6.631225</td>\n",
       "    </tr>\n",
       "    <tr>\n",
       "      <th>2015-01-05</th>\n",
       "      <td>7.9350</td>\n",
       "      <td>7.835</td>\n",
       "      <td>7.9175</td>\n",
       "      <td>7.875</td>\n",
       "      <td>10076400.0</td>\n",
       "      <td>6.548074</td>\n",
       "    </tr>\n",
       "    <tr>\n",
       "      <th>2015-01-06</th>\n",
       "      <td>7.9250</td>\n",
       "      <td>7.695</td>\n",
       "      <td>7.8475</td>\n",
       "      <td>7.820</td>\n",
       "      <td>13290800.0</td>\n",
       "      <td>6.502341</td>\n",
       "    </tr>\n",
       "    <tr>\n",
       "      <th>2015-01-07</th>\n",
       "      <td>8.0475</td>\n",
       "      <td>7.845</td>\n",
       "      <td>7.8500</td>\n",
       "      <td>7.985</td>\n",
       "      <td>23202800.0</td>\n",
       "      <td>6.639540</td>\n",
       "    </tr>\n",
       "  </tbody>\n",
       "</table>\n",
       "</div>"
      ],
      "text/plain": [
       "              High    Low    Open  Close      Volume  Adj Close\n",
       "Date                                                           \n",
       "2014-12-31  7.9875  7.850  7.9300  7.865   5498800.0   6.539760\n",
       "2015-01-02  8.0600  7.915  8.0575  7.975  13401600.0   6.631225\n",
       "2015-01-05  7.9350  7.835  7.9175  7.875  10076400.0   6.548074\n",
       "2015-01-06  7.9250  7.695  7.8475  7.820  13290800.0   6.502341\n",
       "2015-01-07  8.0475  7.845  7.8500  7.985  23202800.0   6.639540"
      ]
     },
     "execution_count": 11,
     "metadata": {},
     "output_type": "execute_result"
    }
   ],
   "source": [
    "df = data.DataReader('INFY' , 'yahoo',start,today)\n",
    "df.head()"
   ]
  },
  {
   "cell_type": "code",
   "execution_count": null,
   "id": "cfcc1b3c",
   "metadata": {},
   "outputs": [],
   "source": []
  }
 ],
 "metadata": {
  "kernelspec": {
   "display_name": "Python 3 (ipykernel)",
   "language": "python",
   "name": "python3"
  },
  "language_info": {
   "codemirror_mode": {
    "name": "ipython",
    "version": 3
   },
   "file_extension": ".py",
   "mimetype": "text/x-python",
   "name": "python",
   "nbconvert_exporter": "python",
   "pygments_lexer": "ipython3",
   "version": "3.10.0"
  }
 },
 "nbformat": 4,
 "nbformat_minor": 5
}
