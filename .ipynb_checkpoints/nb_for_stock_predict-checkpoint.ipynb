{
 "cells": [
  {
   "cell_type": "code",
   "execution_count": 1,
   "id": "c94eed58",
   "metadata": {},
   "outputs": [],
   "source": [
    "import streamlit as st\n",
    "import datetime as date\n",
    "import yfinance as yf\n",
    "import pandas_datareader as data\n",
    "import numpy as np"
   ]
  },
  {
   "cell_type": "code",
   "execution_count": 2,
   "id": "5bd3d84f",
   "metadata": {},
   "outputs": [],
   "source": [
    "from plotly import graph_objs as go"
   ]
  },
  {
   "cell_type": "code",
   "execution_count": 3,
   "id": "df8a0845",
   "metadata": {},
   "outputs": [
    {
     "name": "stdout",
     "output_type": "stream",
     "text": [
      "2022-05-20\n"
     ]
    }
   ],
   "source": [
    "start = \"2015-01-01\"\n",
    "today = date.datetime.today().strftime(\"%Y-%m-%d\")\n",
    "# print(today)"
   ]
  },
  {
   "cell_type": "code",
   "execution_count": 4,
   "id": "ec4aea1c",
   "metadata": {},
   "outputs": [
    {
     "data": {
      "text/html": [
       "<div>\n",
       "<style scoped>\n",
       "    .dataframe tbody tr th:only-of-type {\n",
       "        vertical-align: middle;\n",
       "    }\n",
       "\n",
       "    .dataframe tbody tr th {\n",
       "        vertical-align: top;\n",
       "    }\n",
       "\n",
       "    .dataframe thead th {\n",
       "        text-align: right;\n",
       "    }\n",
       "</style>\n",
       "<table border=\"1\" class=\"dataframe\">\n",
       "  <thead>\n",
       "    <tr style=\"text-align: right;\">\n",
       "      <th></th>\n",
       "      <th>High</th>\n",
       "      <th>Low</th>\n",
       "      <th>Open</th>\n",
       "      <th>Close</th>\n",
       "      <th>Volume</th>\n",
       "      <th>Adj Close</th>\n",
       "    </tr>\n",
       "    <tr>\n",
       "      <th>Date</th>\n",
       "      <th></th>\n",
       "      <th></th>\n",
       "      <th></th>\n",
       "      <th></th>\n",
       "      <th></th>\n",
       "      <th></th>\n",
       "    </tr>\n",
       "  </thead>\n",
       "  <tbody>\n",
       "    <tr>\n",
       "      <th>2014-12-31</th>\n",
       "      <td>7.9875</td>\n",
       "      <td>7.850</td>\n",
       "      <td>7.9300</td>\n",
       "      <td>7.865</td>\n",
       "      <td>5498800.0</td>\n",
       "      <td>6.539760</td>\n",
       "    </tr>\n",
       "    <tr>\n",
       "      <th>2015-01-02</th>\n",
       "      <td>8.0600</td>\n",
       "      <td>7.915</td>\n",
       "      <td>8.0575</td>\n",
       "      <td>7.975</td>\n",
       "      <td>13401600.0</td>\n",
       "      <td>6.631224</td>\n",
       "    </tr>\n",
       "    <tr>\n",
       "      <th>2015-01-05</th>\n",
       "      <td>7.9350</td>\n",
       "      <td>7.835</td>\n",
       "      <td>7.9175</td>\n",
       "      <td>7.875</td>\n",
       "      <td>10076400.0</td>\n",
       "      <td>6.548075</td>\n",
       "    </tr>\n",
       "    <tr>\n",
       "      <th>2015-01-06</th>\n",
       "      <td>7.9250</td>\n",
       "      <td>7.695</td>\n",
       "      <td>7.8475</td>\n",
       "      <td>7.820</td>\n",
       "      <td>13290800.0</td>\n",
       "      <td>6.502342</td>\n",
       "    </tr>\n",
       "    <tr>\n",
       "      <th>2015-01-07</th>\n",
       "      <td>8.0475</td>\n",
       "      <td>7.845</td>\n",
       "      <td>7.8500</td>\n",
       "      <td>7.985</td>\n",
       "      <td>23202800.0</td>\n",
       "      <td>6.639541</td>\n",
       "    </tr>\n",
       "  </tbody>\n",
       "</table>\n",
       "</div>"
      ],
      "text/plain": [
       "              High    Low    Open  Close      Volume  Adj Close\n",
       "Date                                                           \n",
       "2014-12-31  7.9875  7.850  7.9300  7.865   5498800.0   6.539760\n",
       "2015-01-02  8.0600  7.915  8.0575  7.975  13401600.0   6.631224\n",
       "2015-01-05  7.9350  7.835  7.9175  7.875  10076400.0   6.548075\n",
       "2015-01-06  7.9250  7.695  7.8475  7.820  13290800.0   6.502342\n",
       "2015-01-07  8.0475  7.845  7.8500  7.985  23202800.0   6.639541"
      ]
     },
     "execution_count": 4,
     "metadata": {},
     "output_type": "execute_result"
    }
   ],
   "source": [
    "df = data.DataReader('INFY' , 'yahoo',start,today)\n",
    "# df.head()"
   ]
  },
  {
   "cell_type": "code",
   "execution_count": 5,
   "id": "cfcc1b3c",
   "metadata": {},
   "outputs": [
    {
     "data": {
      "text/plain": [
       "0    7.865\n",
       "1    7.975\n",
       "2    7.875\n",
       "3    7.820\n",
       "4    7.985\n",
       "Name: Close, dtype: float64"
      ]
     },
     "execution_count": 5,
     "metadata": {},
     "output_type": "execute_result"
    }
   ],
   "source": [
    "df1 = df.reset_index()['Close']\n",
    "# df1.head()"
   ]
  },
  {
   "cell_type": "code",
   "execution_count": 6,
   "id": "948ff232",
   "metadata": {},
   "outputs": [],
   "source": [
    "#LSTM are sensitive to the scale of the data. So we apply MinMax scaler"
   ]
  },
  {
   "cell_type": "code",
   "execution_count": 7,
   "id": "855d88b2",
   "metadata": {},
   "outputs": [],
   "source": [
    "from sklearn.preprocessing import MinMaxScaler"
   ]
  },
  {
   "cell_type": "code",
   "execution_count": 8,
   "id": "714f830b",
   "metadata": {},
   "outputs": [],
   "source": [
    "scaler =MinMaxScaler(feature_range=(0,1))\n",
    "df2 = scaler.fit_transform(np.array(df1).reshape(-1,1)) # Reshape so that you get a 1 D array instead of 2D"
   ]
  },
  {
   "cell_type": "code",
   "execution_count": 9,
   "id": "ac8d37e4",
   "metadata": {},
   "outputs": [
    {
     "data": {
      "text/plain": [
       "(1860, 1)"
      ]
     },
     "execution_count": 9,
     "metadata": {},
     "output_type": "execute_result"
    }
   ],
   "source": [
    "# df2.shape"
   ]
  },
  {
   "cell_type": "code",
   "execution_count": 10,
   "id": "dba70462",
   "metadata": {},
   "outputs": [
    {
     "data": {
      "text/plain": [
       "array([[0.05514041],\n",
       "       [0.06080906],\n",
       "       [0.05565575],\n",
       "       ...,\n",
       "       [0.66039681],\n",
       "       [0.61762433],\n",
       "       [0.60989429]])"
      ]
     },
     "execution_count": 10,
     "metadata": {},
     "output_type": "execute_result"
    }
   ],
   "source": [
    "# df2"
   ]
  },
  {
   "cell_type": "code",
   "execution_count": 11,
   "id": "8b37e22d",
   "metadata": {},
   "outputs": [],
   "source": [
    "#Splitting the data into training and testing"
   ]
  },
  {
   "cell_type": "code",
   "execution_count": 12,
   "id": "7726c368",
   "metadata": {},
   "outputs": [],
   "source": [
    "training_size = int(len(df2)*0.65) #70% of the data is used for training\n",
    "test_size = len(df2) - training_size\n",
    "train_data,test_data = df2[0:training_size,:],df2[training_size:len(df2),:1]"
   ]
  },
  {
   "cell_type": "code",
   "execution_count": 13,
   "id": "83a61472",
   "metadata": {},
   "outputs": [
    {
     "data": {
      "text/plain": [
       "array([[0.05514041],\n",
       "       [0.06080906],\n",
       "       [0.05565575],\n",
       "       ...,\n",
       "       [0.19608349],\n",
       "       [0.19556815],\n",
       "       [0.19453746]])"
      ]
     },
     "execution_count": 13,
     "metadata": {},
     "output_type": "execute_result"
    }
   ],
   "source": [
    "# train_data"
   ]
  },
  {
   "cell_type": "code",
   "execution_count": 14,
   "id": "ef01149c",
   "metadata": {},
   "outputs": [],
   "source": [
    "def create_dataset(dataset,time_step=1):\n",
    "    dataX,dataY=[],[]\n",
    "    for i in range(len(dataset)-time_step-1):\n",
    "        a = dataset[i:(i+time_step),0]\n",
    "        dataX.append(a)\n",
    "        dataY.append(dataset[i+time_step,0])\n",
    "    return np.array(dataX), np.array(dataY)"
   ]
  },
  {
   "cell_type": "code",
   "execution_count": 95,
   "id": "e737108e",
   "metadata": {},
   "outputs": [],
   "source": [
    "time_step=150\n",
    "X_train,y_train =create_dataset(train_data,time_step)\n",
    "X_test,y_test= create_dataset(test_data,time_step)"
   ]
  },
  {
   "cell_type": "code",
   "execution_count": 96,
   "id": "3da54344",
   "metadata": {},
   "outputs": [],
   "source": [
    "# print(X_train)"
   ]
  },
  {
   "cell_type": "code",
   "execution_count": 97,
   "id": "1b04fceb",
   "metadata": {
    "scrolled": true
   },
   "outputs": [],
   "source": [
    "# print(X_train.shape),print(y_train.shape)"
   ]
  },
  {
   "cell_type": "code",
   "execution_count": 98,
   "id": "be373035",
   "metadata": {},
   "outputs": [],
   "source": [
    "#Reshape input which is required in LSTM which is convert to 3D"
   ]
  },
  {
   "cell_type": "code",
   "execution_count": 99,
   "id": "a765b615",
   "metadata": {},
   "outputs": [],
   "source": [
    "X_train = X_train.reshape(X_train.shape[0],X_train.shape[1],1)\n",
    "X_test = X_test.reshape(X_test.shape[0],X_test.shape[1],1)\n",
    "                       "
   ]
  },
  {
   "cell_type": "code",
   "execution_count": 100,
   "id": "6b2775c3",
   "metadata": {},
   "outputs": [],
   "source": [
    "from keras.models import Sequential\n",
    "from keras.layers import Dense\n",
    "from keras.layers import LSTM"
   ]
  },
  {
   "cell_type": "code",
   "execution_count": 101,
   "id": "5ea67d52",
   "metadata": {},
   "outputs": [],
   "source": [
    "model =Sequential()\n",
    "model.add(LSTM(50,return_sequences=True,input_shape=(150,1)))\n",
    "model.add(LSTM(50,return_sequences=True))\n",
    "model.add(LSTM(50))\n",
    "model.add(Dense(1))\n",
    "model.compile(loss='mean_squared_error',optimizer='adam')"
   ]
  },
  {
   "cell_type": "code",
   "execution_count": 102,
   "id": "02c1e209",
   "metadata": {},
   "outputs": [
    {
     "name": "stdout",
     "output_type": "stream",
     "text": [
      "Model: \"sequential_2\"\n",
      "_________________________________________________________________\n",
      " Layer (type)                Output Shape              Param #   \n",
      "=================================================================\n",
      " lstm_6 (LSTM)               (None, 150, 50)           10400     \n",
      "                                                                 \n",
      " lstm_7 (LSTM)               (None, 150, 50)           20200     \n",
      "                                                                 \n",
      " lstm_8 (LSTM)               (None, 50)                20200     \n",
      "                                                                 \n",
      " dense_2 (Dense)             (None, 1)                 51        \n",
      "                                                                 \n",
      "=================================================================\n",
      "Total params: 50,851\n",
      "Trainable params: 50,851\n",
      "Non-trainable params: 0\n",
      "_________________________________________________________________\n"
     ]
    }
   ],
   "source": [
    "model.summary()"
   ]
  },
  {
   "cell_type": "code",
   "execution_count": 129,
   "id": "e1ab07f3",
   "metadata": {},
   "outputs": [
    {
     "name": "stdout",
     "output_type": "stream",
     "text": [
      "Epoch 1/20\n",
      "17/17 [==============================] - 3s 185ms/step - loss: 7.1840e-05 - val_loss: 4.8544e-04\n",
      "Epoch 2/20\n",
      "17/17 [==============================] - 3s 193ms/step - loss: 6.2877e-05 - val_loss: 7.8872e-04\n",
      "Epoch 3/20\n",
      "17/17 [==============================] - 3s 186ms/step - loss: 6.1756e-05 - val_loss: 0.0015\n",
      "Epoch 4/20\n",
      "17/17 [==============================] - 3s 205ms/step - loss: 5.7799e-05 - val_loss: 9.7650e-04\n",
      "Epoch 5/20\n",
      "17/17 [==============================] - 3s 180ms/step - loss: 5.9564e-05 - val_loss: 0.0016\n",
      "Epoch 6/20\n",
      "17/17 [==============================] - 3s 180ms/step - loss: 5.6419e-05 - val_loss: 0.0017\n",
      "Epoch 7/20\n",
      "17/17 [==============================] - 3s 181ms/step - loss: 5.7180e-05 - val_loss: 0.0010\n",
      "Epoch 8/20\n",
      "17/17 [==============================] - 3s 181ms/step - loss: 6.1612e-05 - val_loss: 9.7052e-04\n",
      "Epoch 9/20\n",
      "17/17 [==============================] - 3s 181ms/step - loss: 5.7047e-05 - val_loss: 0.0013\n",
      "Epoch 10/20\n",
      "17/17 [==============================] - 4s 211ms/step - loss: 5.4008e-05 - val_loss: 0.0013\n",
      "Epoch 11/20\n",
      "17/17 [==============================] - 4s 210ms/step - loss: 5.4992e-05 - val_loss: 0.0015\n",
      "Epoch 12/20\n",
      "17/17 [==============================] - 3s 207ms/step - loss: 5.3131e-05 - val_loss: 8.2215e-04\n",
      "Epoch 13/20\n",
      "17/17 [==============================] - 3s 206ms/step - loss: 5.6237e-05 - val_loss: 0.0021\n",
      "Epoch 14/20\n",
      "17/17 [==============================] - 4s 239ms/step - loss: 5.2966e-05 - val_loss: 0.0016\n",
      "Epoch 15/20\n",
      "17/17 [==============================] - 3s 205ms/step - loss: 5.6683e-05 - val_loss: 7.0760e-04\n",
      "Epoch 16/20\n",
      "17/17 [==============================] - 3s 206ms/step - loss: 6.1841e-05 - val_loss: 0.0011\n",
      "Epoch 17/20\n",
      "17/17 [==============================] - 3s 206ms/step - loss: 5.6138e-05 - val_loss: 0.0012\n",
      "Epoch 18/20\n",
      "17/17 [==============================] - 4s 208ms/step - loss: 5.3854e-05 - val_loss: 0.0012\n",
      "Epoch 19/20\n",
      "17/17 [==============================] - 3s 206ms/step - loss: 5.4878e-05 - val_loss: 7.8909e-04\n",
      "Epoch 20/20\n",
      "17/17 [==============================] - 3s 206ms/step - loss: 5.3676e-05 - val_loss: 9.7598e-04\n"
     ]
    },
    {
     "data": {
      "text/plain": [
       "<keras.callbacks.History at 0x12975498d00>"
      ]
     },
     "execution_count": 129,
     "metadata": {},
     "output_type": "execute_result"
    }
   ],
   "source": [
    "model.fit(X_train,y_train,validation_data=(X_test,y_test),epochs=20,batch_size=64,verbose=1)"
   ]
  },
  {
   "cell_type": "code",
   "execution_count": 130,
   "id": "38ce6431",
   "metadata": {},
   "outputs": [],
   "source": [
    "train_predict=model.predict(X_train)\n",
    "test_predict= model.predict(X_test)"
   ]
  },
  {
   "cell_type": "code",
   "execution_count": 131,
   "id": "debe8cb5",
   "metadata": {},
   "outputs": [],
   "source": [
    "train_predict=scaler.inverse_transform(train_predict)\n",
    "test_predict = scaler.inverse_transform(test_predict)"
   ]
  },
  {
   "cell_type": "code",
   "execution_count": 132,
   "id": "6eb1b7f1",
   "metadata": {},
   "outputs": [],
   "source": [
    "#Calculate the RMSE performance metrics\n",
    "import math\n",
    "from sklearn.metrics import mean_squared_error\n",
    "# math.sqrt(mean_squared_error(y_train,train_predict))"
   ]
  },
  {
   "cell_type": "code",
   "execution_count": 133,
   "id": "5a11cea1",
   "metadata": {},
   "outputs": [],
   "source": [
    "# math.sqrt(mean_squared_error(y_test,test_predict))"
   ]
  },
  {
   "cell_type": "code",
   "execution_count": 134,
   "id": "2963784a",
   "metadata": {},
   "outputs": [],
   "source": [
    "#Plotting the actual data, train and test data"
   ]
  },
  {
   "cell_type": "code",
   "execution_count": 152,
   "id": "43de3da5",
   "metadata": {},
   "outputs": [],
   "source": [
    "look_back=150\n",
    "trainPredictPlot = np.empty_like(df2)\n",
    "trainPredictPlot[:, :] = np.nan\n",
    "trainPredictPlot[look_back:len(train_predict)+look_back, :]= train_predict"
   ]
  },
  {
   "cell_type": "code",
   "execution_count": 157,
   "id": "db5a5429",
   "metadata": {},
   "outputs": [],
   "source": [
    "import pandas as pd"
   ]
  },
  {
   "cell_type": "code",
   "execution_count": 167,
   "id": "49ed1a15",
   "metadata": {},
   "outputs": [
    {
     "data": {
      "text/html": [
       "<div>\n",
       "<style scoped>\n",
       "    .dataframe tbody tr th:only-of-type {\n",
       "        vertical-align: middle;\n",
       "    }\n",
       "\n",
       "    .dataframe tbody tr th {\n",
       "        vertical-align: top;\n",
       "    }\n",
       "\n",
       "    .dataframe thead th {\n",
       "        text-align: right;\n",
       "    }\n",
       "</style>\n",
       "<table border=\"1\" class=\"dataframe\">\n",
       "  <thead>\n",
       "    <tr style=\"text-align: right;\">\n",
       "      <th></th>\n",
       "      <th>Values</th>\n",
       "    </tr>\n",
       "  </thead>\n",
       "  <tbody>\n",
       "    <tr>\n",
       "      <th>0</th>\n",
       "      <td>NaN</td>\n",
       "    </tr>\n",
       "    <tr>\n",
       "      <th>1</th>\n",
       "      <td>NaN</td>\n",
       "    </tr>\n",
       "    <tr>\n",
       "      <th>2</th>\n",
       "      <td>NaN</td>\n",
       "    </tr>\n",
       "    <tr>\n",
       "      <th>3</th>\n",
       "      <td>NaN</td>\n",
       "    </tr>\n",
       "    <tr>\n",
       "      <th>4</th>\n",
       "      <td>NaN</td>\n",
       "    </tr>\n",
       "  </tbody>\n",
       "</table>\n",
       "</div>"
      ],
      "text/plain": [
       "   Values\n",
       "0     NaN\n",
       "1     NaN\n",
       "2     NaN\n",
       "3     NaN\n",
       "4     NaN"
      ]
     },
     "execution_count": 167,
     "metadata": {},
     "output_type": "execute_result"
    }
   ],
   "source": [
    "train_plot=pd.DataFrame(trainPredictPlot)\n",
    "train_plot.rename(columns={0:'Values'},inplace=True)\n",
    "train_plot.head()"
   ]
  },
  {
   "cell_type": "code",
   "execution_count": 136,
   "id": "8ed18a49",
   "metadata": {},
   "outputs": [],
   "source": [
    "testPredictPlot = np.empty_like(df2)\n",
    "testPredictPlot[:, :] = np.nan\n",
    "testPredictPlot[len(train_predict)+(look_back*2)+1:len(df2)-1, :] = test_predict"
   ]
  },
  {
   "cell_type": "code",
   "execution_count": 168,
   "id": "57ca8a51",
   "metadata": {},
   "outputs": [
    {
     "data": {
      "text/html": [
       "<div>\n",
       "<style scoped>\n",
       "    .dataframe tbody tr th:only-of-type {\n",
       "        vertical-align: middle;\n",
       "    }\n",
       "\n",
       "    .dataframe tbody tr th {\n",
       "        vertical-align: top;\n",
       "    }\n",
       "\n",
       "    .dataframe thead th {\n",
       "        text-align: right;\n",
       "    }\n",
       "</style>\n",
       "<table border=\"1\" class=\"dataframe\">\n",
       "  <thead>\n",
       "    <tr style=\"text-align: right;\">\n",
       "      <th></th>\n",
       "      <th>Values</th>\n",
       "    </tr>\n",
       "  </thead>\n",
       "  <tbody>\n",
       "    <tr>\n",
       "      <th>1855</th>\n",
       "      <td>19.438030</td>\n",
       "    </tr>\n",
       "    <tr>\n",
       "      <th>1856</th>\n",
       "      <td>19.185369</td>\n",
       "    </tr>\n",
       "    <tr>\n",
       "      <th>1857</th>\n",
       "      <td>18.533203</td>\n",
       "    </tr>\n",
       "    <tr>\n",
       "      <th>1858</th>\n",
       "      <td>19.749195</td>\n",
       "    </tr>\n",
       "    <tr>\n",
       "      <th>1859</th>\n",
       "      <td>NaN</td>\n",
       "    </tr>\n",
       "  </tbody>\n",
       "</table>\n",
       "</div>"
      ],
      "text/plain": [
       "         Values\n",
       "1855  19.438030\n",
       "1856  19.185369\n",
       "1857  18.533203\n",
       "1858  19.749195\n",
       "1859        NaN"
      ]
     },
     "execution_count": 168,
     "metadata": {},
     "output_type": "execute_result"
    }
   ],
   "source": [
    "test_plot=pd.DataFrame(testPredictPlot)\n",
    "test_plot.rename(columns={0:'Values'},inplace=True)\n",
    "test_plot.tail()"
   ]
  },
  {
   "cell_type": "code",
   "execution_count": 137,
   "id": "8a3b4551",
   "metadata": {},
   "outputs": [],
   "source": [
    "import matplotlib.pyplot as plt"
   ]
  },
  {
   "cell_type": "code",
   "execution_count": 138,
   "id": "642b1707",
   "metadata": {},
   "outputs": [
    {
     "data": {
      "image/png": "[encoded data removed]",
      "text/plain": [
       "<Figure size 432x288 with 1 Axes>"
      ]
     },
     "metadata": {
      "needs_background": "light"
     },
     "output_type": "display_data"
    }
   ],
   "source": [
    "plt.plot(scaler.inverse_transform(df2))\n",
    "plt.plot(trainPredictPlot)\n",
    "plt.plot(testPredictPlot)\n",
    "plt.show()"
   ]
  },
  {
   "cell_type": "code",
   "execution_count": 139,
   "id": "e85b642d",
   "metadata": {},
   "outputs": [],
   "source": [
    "#Now predict 30 days"
   ]
  },
  {
   "cell_type": "code",
   "execution_count": 140,
   "id": "2bb20131",
   "metadata": {},
   "outputs": [],
   "source": [
    "# len(test_data)"
   ]
  },
  {
   "cell_type": "code",
   "execution_count": 141,
   "id": "636d3d51",
   "metadata": {},
   "outputs": [
    {
     "data": {
      "text/plain": [
       "(1, 150)"
      ]
     },
     "execution_count": 141,
     "metadata": {},
     "output_type": "execute_result"
    }
   ],
   "source": [
    "x_input = test_data[len(test_data)-150:].reshape(1,-1)\n",
    "x_input.shape"
   ]
  },
  {
   "cell_type": "code",
   "execution_count": 142,
   "id": "db736c21",
   "metadata": {},
   "outputs": [],
   "source": [
    "temp_input = list(x_input)\n",
    "temp_input=temp_input[0].tolist()"
   ]
  },
  {
   "cell_type": "code",
   "execution_count": 143,
   "id": "6d9c7a51",
   "metadata": {},
   "outputs": [],
   "source": [
    "# temp_input"
   ]
  },
  {
   "cell_type": "code",
   "execution_count": 144,
   "id": "2ae2bc31",
   "metadata": {},
   "outputs": [
    {
     "name": "stdout",
     "output_type": "stream",
     "text": [
      "[0.6048001]\n",
      "151\n",
      "1 day input [0.87528987 0.89796437 0.89332638 0.85622258 0.83560936 0.83148671\n",
      " 0.81911878 0.81190408 0.81241942 0.79799021 0.80778143 0.81757275\n",
      " 0.82014937 0.82014937 0.82427211 0.85776861 0.85055391 0.83303264\n",
      " 0.84540068 0.87116723 0.86755983 0.88817315 0.8732285  0.86859052\n",
      " 0.86549856 0.82324142 0.82942534 0.81499613 0.79386757 0.81551148\n",
      " 0.81345011 0.8062355  0.85776861 0.82891    0.79644418 0.83818597\n",
      " 0.85776861 0.84797729 0.84488533 0.81499613 0.82942534 0.84849263\n",
      " 0.8922958  0.88868849 0.87065189 0.89796437 0.91393971 0.92424627\n",
      " 0.95516615 0.95362012 0.95774277 0.9592888  0.95413547 0.95155885\n",
      " 0.9438289  0.90208702 0.8922958  0.89693378 0.92630764 0.93919092\n",
      " 0.97681006 0.96908012 1.         0.96444213 0.91084765 0.87013654\n",
      " 0.85622258 0.83200206 0.80829677 0.80365879 0.77376959 0.81757275\n",
      " 0.86446787 0.86189125 0.87477453 0.82272608 0.82942534 0.80778143\n",
      " 0.82942534 0.85622258 0.83200206 0.79747487 0.79335222 0.82942534\n",
      " 0.82684872 0.80572016 0.8098428  0.83767063 0.82066471 0.79592884\n",
      " 0.82684872 0.80726609 0.7918062  0.81396545 0.81035815 0.80726609\n",
      " 0.81345011 0.85209994 0.88147379 0.87838183 0.88714247 0.92218499\n",
      " 0.89641844 0.9438289  0.91187833 0.9402216  0.89744903 0.92733833\n",
      " 0.90260236 0.92115431 0.92424627 0.92373093 0.9438289  0.9366142\n",
      " 0.93249156 0.91806235 0.92476161 0.90620966 0.88508109 0.87735115\n",
      " 0.87116723 0.83767063 0.81293476 0.74181912 0.70419987 0.7093532\n",
      " 0.7021386  0.70986855 0.71553722 0.69389331 0.70162326 0.68667871\n",
      " 0.68667871 0.70626124 0.67379543 0.68822464 0.69183194 0.71192992\n",
      " 0.69646993 0.67276474 0.67121871 0.66812676 0.65009015 0.65627416\n",
      " 0.65215152 0.62586962 0.66039681 0.61762433 0.60989429 0.60480011]\n",
      "1 day ouput [[0.5952817]]\n",
      "2 day input [0.87528987 0.89796437 0.89332638 0.85622258 0.83560936 0.83148671\n",
      " 0.81911878 0.81190408 0.81241942 0.79799021 0.80778143 0.81757275\n",
      " 0.82014937 0.82014937 0.82427211 0.85776861 0.85055391 0.83303264\n",
      " 0.84540068 0.87116723 0.86755983 0.88817315 0.8732285  0.86859052\n",
      " 0.86549856 0.82324142 0.82942534 0.81499613 0.79386757 0.81551148\n",
      " 0.81345011 0.8062355  0.85776861 0.82891    0.79644418 0.83818597\n",
      " 0.85776861 0.84797729 0.84488533 0.81499613 0.82942534 0.84849263\n",
      " 0.8922958  0.88868849 0.87065189 0.89796437 0.91393971 0.92424627\n",
      " 0.95516615 0.95362012 0.95774277 0.9592888  0.95413547 0.95155885\n",
      " 0.9438289  0.90208702 0.8922958  0.89693378 0.92630764 0.93919092\n",
      " 0.97681006 0.96908012 1.         0.96444213 0.91084765 0.87013654\n",
      " 0.85622258 0.83200206 0.80829677 0.80365879 0.77376959 0.81757275\n",
      " 0.86446787 0.86189125 0.87477453 0.82272608 0.82942534 0.80778143\n",
      " 0.82942534 0.85622258 0.83200206 0.79747487 0.79335222 0.82942534\n",
      " 0.82684872 0.80572016 0.8098428  0.83767063 0.82066471 0.79592884\n",
      " 0.82684872 0.80726609 0.7918062  0.81396545 0.81035815 0.80726609\n",
      " 0.81345011 0.85209994 0.88147379 0.87838183 0.88714247 0.92218499\n",
      " 0.89641844 0.9438289  0.91187833 0.9402216  0.89744903 0.92733833\n",
      " 0.90260236 0.92115431 0.92424627 0.92373093 0.9438289  0.9366142\n",
      " 0.93249156 0.91806235 0.92476161 0.90620966 0.88508109 0.87735115\n",
      " 0.87116723 0.83767063 0.81293476 0.74181912 0.70419987 0.7093532\n",
      " 0.7021386  0.70986855 0.71553722 0.69389331 0.70162326 0.68667871\n",
      " 0.68667871 0.70626124 0.67379543 0.68822464 0.69183194 0.71192992\n",
      " 0.69646993 0.67276474 0.67121871 0.66812676 0.65009015 0.65627416\n",
      " 0.65215152 0.62586962 0.66039681 0.61762433 0.60989429 0.60480011]\n",
      "2 day ouput [[0.5952817]]\n",
      "3 day input [0.87528987 0.89796437 0.89332638 0.85622258 0.83560936 0.83148671\n",
      " 0.81911878 0.81190408 0.81241942 0.79799021 0.80778143 0.81757275\n",
      " 0.82014937 0.82014937 0.82427211 0.85776861 0.85055391 0.83303264\n",
      " 0.84540068 0.87116723 0.86755983 0.88817315 0.8732285  0.86859052\n",
      " 0.86549856 0.82324142 0.82942534 0.81499613 0.79386757 0.81551148\n",
      " 0.81345011 0.8062355  0.85776861 0.82891    0.79644418 0.83818597\n",
      " 0.85776861 0.84797729 0.84488533 0.81499613 0.82942534 0.84849263\n",
      " 0.8922958  0.88868849 0.87065189 0.89796437 0.91393971 0.92424627\n",
      " 0.95516615 0.95362012 0.95774277 0.9592888  0.95413547 0.95155885\n",
      " 0.9438289  0.90208702 0.8922958  0.89693378 0.92630764 0.93919092\n",
      " 0.97681006 0.96908012 1.         0.96444213 0.91084765 0.87013654\n",
      " 0.85622258 0.83200206 0.80829677 0.80365879 0.77376959 0.81757275\n",
      " 0.86446787 0.86189125 0.87477453 0.82272608 0.82942534 0.80778143\n",
      " 0.82942534 0.85622258 0.83200206 0.79747487 0.79335222 0.82942534\n",
      " 0.82684872 0.80572016 0.8098428  0.83767063 0.82066471 0.79592884\n",
      " 0.82684872 0.80726609 0.7918062  0.81396545 0.81035815 0.80726609\n",
      " 0.81345011 0.85209994 0.88147379 0.87838183 0.88714247 0.92218499\n",
      " 0.89641844 0.9438289  0.91187833 0.9402216  0.89744903 0.92733833\n",
      " 0.90260236 0.92115431 0.92424627 0.92373093 0.9438289  0.9366142\n",
      " 0.93249156 0.91806235 0.92476161 0.90620966 0.88508109 0.87735115\n",
      " 0.87116723 0.83767063 0.81293476 0.74181912 0.70419987 0.7093532\n",
      " 0.7021386  0.70986855 0.71553722 0.69389331 0.70162326 0.68667871\n",
      " 0.68667871 0.70626124 0.67379543 0.68822464 0.69183194 0.71192992\n",
      " 0.69646993 0.67276474 0.67121871 0.66812676 0.65009015 0.65627416\n",
      " 0.65215152 0.62586962 0.66039681 0.61762433 0.60989429 0.60480011]\n",
      "3 day ouput [[0.5952817]]\n",
      "4 day input [0.87528987 0.89796437 0.89332638 0.85622258 0.83560936 0.83148671\n",
      " 0.81911878 0.81190408 0.81241942 0.79799021 0.80778143 0.81757275\n",
      " 0.82014937 0.82014937 0.82427211 0.85776861 0.85055391 0.83303264\n",
      " 0.84540068 0.87116723 0.86755983 0.88817315 0.8732285  0.86859052\n",
      " 0.86549856 0.82324142 0.82942534 0.81499613 0.79386757 0.81551148\n",
      " 0.81345011 0.8062355  0.85776861 0.82891    0.79644418 0.83818597\n",
      " 0.85776861 0.84797729 0.84488533 0.81499613 0.82942534 0.84849263\n",
      " 0.8922958  0.88868849 0.87065189 0.89796437 0.91393971 0.92424627\n",
      " 0.95516615 0.95362012 0.95774277 0.9592888  0.95413547 0.95155885\n",
      " 0.9438289  0.90208702 0.8922958  0.89693378 0.92630764 0.93919092\n",
      " 0.97681006 0.96908012 1.         0.96444213 0.91084765 0.87013654\n",
      " 0.85622258 0.83200206 0.80829677 0.80365879 0.77376959 0.81757275\n",
      " 0.86446787 0.86189125 0.87477453 0.82272608 0.82942534 0.80778143\n",
      " 0.82942534 0.85622258 0.83200206 0.79747487 0.79335222 0.82942534\n",
      " 0.82684872 0.80572016 0.8098428  0.83767063 0.82066471 0.79592884\n",
      " 0.82684872 0.80726609 0.7918062  0.81396545 0.81035815 0.80726609\n",
      " 0.81345011 0.85209994 0.88147379 0.87838183 0.88714247 0.92218499\n",
      " 0.89641844 0.9438289  0.91187833 0.9402216  0.89744903 0.92733833\n",
      " 0.90260236 0.92115431 0.92424627 0.92373093 0.9438289  0.9366142\n",
      " 0.93249156 0.91806235 0.92476161 0.90620966 0.88508109 0.87735115\n",
      " 0.87116723 0.83767063 0.81293476 0.74181912 0.70419987 0.7093532\n",
      " 0.7021386  0.70986855 0.71553722 0.69389331 0.70162326 0.68667871\n",
      " 0.68667871 0.70626124 0.67379543 0.68822464 0.69183194 0.71192992\n",
      " 0.69646993 0.67276474 0.67121871 0.66812676 0.65009015 0.65627416\n",
      " 0.65215152 0.62586962 0.66039681 0.61762433 0.60989429 0.60480011]\n",
      "4 day ouput [[0.5952817]]\n",
      "5 day input [0.87528987 0.89796437 0.89332638 0.85622258 0.83560936 0.83148671\n",
      " 0.81911878 0.81190408 0.81241942 0.79799021 0.80778143 0.81757275\n",
      " 0.82014937 0.82014937 0.82427211 0.85776861 0.85055391 0.83303264\n",
      " 0.84540068 0.87116723 0.86755983 0.88817315 0.8732285  0.86859052\n",
      " 0.86549856 0.82324142 0.82942534 0.81499613 0.79386757 0.81551148\n",
      " 0.81345011 0.8062355  0.85776861 0.82891    0.79644418 0.83818597\n",
      " 0.85776861 0.84797729 0.84488533 0.81499613 0.82942534 0.84849263\n",
      " 0.8922958  0.88868849 0.87065189 0.89796437 0.91393971 0.92424627\n",
      " 0.95516615 0.95362012 0.95774277 0.9592888  0.95413547 0.95155885\n",
      " 0.9438289  0.90208702 0.8922958  0.89693378 0.92630764 0.93919092\n",
      " 0.97681006 0.96908012 1.         0.96444213 0.91084765 0.87013654\n",
      " 0.85622258 0.83200206 0.80829677 0.80365879 0.77376959 0.81757275\n",
      " 0.86446787 0.86189125 0.87477453 0.82272608 0.82942534 0.80778143\n",
      " 0.82942534 0.85622258 0.83200206 0.79747487 0.79335222 0.82942534\n",
      " 0.82684872 0.80572016 0.8098428  0.83767063 0.82066471 0.79592884\n",
      " 0.82684872 0.80726609 0.7918062  0.81396545 0.81035815 0.80726609\n",
      " 0.81345011 0.85209994 0.88147379 0.87838183 0.88714247 0.92218499\n",
      " 0.89641844 0.9438289  0.91187833 0.9402216  0.89744903 0.92733833\n",
      " 0.90260236 0.92115431 0.92424627 0.92373093 0.9438289  0.9366142\n",
      " 0.93249156 0.91806235 0.92476161 0.90620966 0.88508109 0.87735115\n",
      " 0.87116723 0.83767063 0.81293476 0.74181912 0.70419987 0.7093532\n",
      " 0.7021386  0.70986855 0.71553722 0.69389331 0.70162326 0.68667871\n",
      " 0.68667871 0.70626124 0.67379543 0.68822464 0.69183194 0.71192992\n",
      " 0.69646993 0.67276474 0.67121871 0.66812676 0.65009015 0.65627416\n",
      " 0.65215152 0.62586962 0.66039681 0.61762433 0.60989429 0.60480011]\n"
     ]
    },
    {
     "name": "stdout",
     "output_type": "stream",
     "text": [
      "5 day ouput [[0.5952817]]\n",
      "6 day input [0.87528987 0.89796437 0.89332638 0.85622258 0.83560936 0.83148671\n",
      " 0.81911878 0.81190408 0.81241942 0.79799021 0.80778143 0.81757275\n",
      " 0.82014937 0.82014937 0.82427211 0.85776861 0.85055391 0.83303264\n",
      " 0.84540068 0.87116723 0.86755983 0.88817315 0.8732285  0.86859052\n",
      " 0.86549856 0.82324142 0.82942534 0.81499613 0.79386757 0.81551148\n",
      " 0.81345011 0.8062355  0.85776861 0.82891    0.79644418 0.83818597\n",
      " 0.85776861 0.84797729 0.84488533 0.81499613 0.82942534 0.84849263\n",
      " 0.8922958  0.88868849 0.87065189 0.89796437 0.91393971 0.92424627\n",
      " 0.95516615 0.95362012 0.95774277 0.9592888  0.95413547 0.95155885\n",
      " 0.9438289  0.90208702 0.8922958  0.89693378 0.92630764 0.93919092\n",
      " 0.97681006 0.96908012 1.         0.96444213 0.91084765 0.87013654\n",
      " 0.85622258 0.83200206 0.80829677 0.80365879 0.77376959 0.81757275\n",
      " 0.86446787 0.86189125 0.87477453 0.82272608 0.82942534 0.80778143\n",
      " 0.82942534 0.85622258 0.83200206 0.79747487 0.79335222 0.82942534\n",
      " 0.82684872 0.80572016 0.8098428  0.83767063 0.82066471 0.79592884\n",
      " 0.82684872 0.80726609 0.7918062  0.81396545 0.81035815 0.80726609\n",
      " 0.81345011 0.85209994 0.88147379 0.87838183 0.88714247 0.92218499\n",
      " 0.89641844 0.9438289  0.91187833 0.9402216  0.89744903 0.92733833\n",
      " 0.90260236 0.92115431 0.92424627 0.92373093 0.9438289  0.9366142\n",
      " 0.93249156 0.91806235 0.92476161 0.90620966 0.88508109 0.87735115\n",
      " 0.87116723 0.83767063 0.81293476 0.74181912 0.70419987 0.7093532\n",
      " 0.7021386  0.70986855 0.71553722 0.69389331 0.70162326 0.68667871\n",
      " 0.68667871 0.70626124 0.67379543 0.68822464 0.69183194 0.71192992\n",
      " 0.69646993 0.67276474 0.67121871 0.66812676 0.65009015 0.65627416\n",
      " 0.65215152 0.62586962 0.66039681 0.61762433 0.60989429 0.60480011]\n",
      "6 day ouput [[0.5952817]]\n",
      "7 day input [0.87528987 0.89796437 0.89332638 0.85622258 0.83560936 0.83148671\n",
      " 0.81911878 0.81190408 0.81241942 0.79799021 0.80778143 0.81757275\n",
      " 0.82014937 0.82014937 0.82427211 0.85776861 0.85055391 0.83303264\n",
      " 0.84540068 0.87116723 0.86755983 0.88817315 0.8732285  0.86859052\n",
      " 0.86549856 0.82324142 0.82942534 0.81499613 0.79386757 0.81551148\n",
      " 0.81345011 0.8062355  0.85776861 0.82891    0.79644418 0.83818597\n",
      " 0.85776861 0.84797729 0.84488533 0.81499613 0.82942534 0.84849263\n",
      " 0.8922958  0.88868849 0.87065189 0.89796437 0.91393971 0.92424627\n",
      " 0.95516615 0.95362012 0.95774277 0.9592888  0.95413547 0.95155885\n",
      " 0.9438289  0.90208702 0.8922958  0.89693378 0.92630764 0.93919092\n",
      " 0.97681006 0.96908012 1.         0.96444213 0.91084765 0.87013654\n",
      " 0.85622258 0.83200206 0.80829677 0.80365879 0.77376959 0.81757275\n",
      " 0.86446787 0.86189125 0.87477453 0.82272608 0.82942534 0.80778143\n",
      " 0.82942534 0.85622258 0.83200206 0.79747487 0.79335222 0.82942534\n",
      " 0.82684872 0.80572016 0.8098428  0.83767063 0.82066471 0.79592884\n",
      " 0.82684872 0.80726609 0.7918062  0.81396545 0.81035815 0.80726609\n",
      " 0.81345011 0.85209994 0.88147379 0.87838183 0.88714247 0.92218499\n",
      " 0.89641844 0.9438289  0.91187833 0.9402216  0.89744903 0.92733833\n",
      " 0.90260236 0.92115431 0.92424627 0.92373093 0.9438289  0.9366142\n",
      " 0.93249156 0.91806235 0.92476161 0.90620966 0.88508109 0.87735115\n",
      " 0.87116723 0.83767063 0.81293476 0.74181912 0.70419987 0.7093532\n",
      " 0.7021386  0.70986855 0.71553722 0.69389331 0.70162326 0.68667871\n",
      " 0.68667871 0.70626124 0.67379543 0.68822464 0.69183194 0.71192992\n",
      " 0.69646993 0.67276474 0.67121871 0.66812676 0.65009015 0.65627416\n",
      " 0.65215152 0.62586962 0.66039681 0.61762433 0.60989429 0.60480011]\n",
      "7 day ouput [[0.5952817]]\n",
      "8 day input [0.87528987 0.89796437 0.89332638 0.85622258 0.83560936 0.83148671\n",
      " 0.81911878 0.81190408 0.81241942 0.79799021 0.80778143 0.81757275\n",
      " 0.82014937 0.82014937 0.82427211 0.85776861 0.85055391 0.83303264\n",
      " 0.84540068 0.87116723 0.86755983 0.88817315 0.8732285  0.86859052\n",
      " 0.86549856 0.82324142 0.82942534 0.81499613 0.79386757 0.81551148\n",
      " 0.81345011 0.8062355  0.85776861 0.82891    0.79644418 0.83818597\n",
      " 0.85776861 0.84797729 0.84488533 0.81499613 0.82942534 0.84849263\n",
      " 0.8922958  0.88868849 0.87065189 0.89796437 0.91393971 0.92424627\n",
      " 0.95516615 0.95362012 0.95774277 0.9592888  0.95413547 0.95155885\n",
      " 0.9438289  0.90208702 0.8922958  0.89693378 0.92630764 0.93919092\n",
      " 0.97681006 0.96908012 1.         0.96444213 0.91084765 0.87013654\n",
      " 0.85622258 0.83200206 0.80829677 0.80365879 0.77376959 0.81757275\n",
      " 0.86446787 0.86189125 0.87477453 0.82272608 0.82942534 0.80778143\n",
      " 0.82942534 0.85622258 0.83200206 0.79747487 0.79335222 0.82942534\n",
      " 0.82684872 0.80572016 0.8098428  0.83767063 0.82066471 0.79592884\n",
      " 0.82684872 0.80726609 0.7918062  0.81396545 0.81035815 0.80726609\n",
      " 0.81345011 0.85209994 0.88147379 0.87838183 0.88714247 0.92218499\n",
      " 0.89641844 0.9438289  0.91187833 0.9402216  0.89744903 0.92733833\n",
      " 0.90260236 0.92115431 0.92424627 0.92373093 0.9438289  0.9366142\n",
      " 0.93249156 0.91806235 0.92476161 0.90620966 0.88508109 0.87735115\n",
      " 0.87116723 0.83767063 0.81293476 0.74181912 0.70419987 0.7093532\n",
      " 0.7021386  0.70986855 0.71553722 0.69389331 0.70162326 0.68667871\n",
      " 0.68667871 0.70626124 0.67379543 0.68822464 0.69183194 0.71192992\n",
      " 0.69646993 0.67276474 0.67121871 0.66812676 0.65009015 0.65627416\n",
      " 0.65215152 0.62586962 0.66039681 0.61762433 0.60989429 0.60480011]\n",
      "8 day ouput [[0.5952817]]\n",
      "9 day input [0.87528987 0.89796437 0.89332638 0.85622258 0.83560936 0.83148671\n",
      " 0.81911878 0.81190408 0.81241942 0.79799021 0.80778143 0.81757275\n",
      " 0.82014937 0.82014937 0.82427211 0.85776861 0.85055391 0.83303264\n",
      " 0.84540068 0.87116723 0.86755983 0.88817315 0.8732285  0.86859052\n",
      " 0.86549856 0.82324142 0.82942534 0.81499613 0.79386757 0.81551148\n",
      " 0.81345011 0.8062355  0.85776861 0.82891    0.79644418 0.83818597\n",
      " 0.85776861 0.84797729 0.84488533 0.81499613 0.82942534 0.84849263\n",
      " 0.8922958  0.88868849 0.87065189 0.89796437 0.91393971 0.92424627\n",
      " 0.95516615 0.95362012 0.95774277 0.9592888  0.95413547 0.95155885\n",
      " 0.9438289  0.90208702 0.8922958  0.89693378 0.92630764 0.93919092\n",
      " 0.97681006 0.96908012 1.         0.96444213 0.91084765 0.87013654\n",
      " 0.85622258 0.83200206 0.80829677 0.80365879 0.77376959 0.81757275\n",
      " 0.86446787 0.86189125 0.87477453 0.82272608 0.82942534 0.80778143\n",
      " 0.82942534 0.85622258 0.83200206 0.79747487 0.79335222 0.82942534\n",
      " 0.82684872 0.80572016 0.8098428  0.83767063 0.82066471 0.79592884\n",
      " 0.82684872 0.80726609 0.7918062  0.81396545 0.81035815 0.80726609\n",
      " 0.81345011 0.85209994 0.88147379 0.87838183 0.88714247 0.92218499\n",
      " 0.89641844 0.9438289  0.91187833 0.9402216  0.89744903 0.92733833\n",
      " 0.90260236 0.92115431 0.92424627 0.92373093 0.9438289  0.9366142\n",
      " 0.93249156 0.91806235 0.92476161 0.90620966 0.88508109 0.87735115\n",
      " 0.87116723 0.83767063 0.81293476 0.74181912 0.70419987 0.7093532\n",
      " 0.7021386  0.70986855 0.71553722 0.69389331 0.70162326 0.68667871\n",
      " 0.68667871 0.70626124 0.67379543 0.68822464 0.69183194 0.71192992\n",
      " 0.69646993 0.67276474 0.67121871 0.66812676 0.65009015 0.65627416\n",
      " 0.65215152 0.62586962 0.66039681 0.61762433 0.60989429 0.60480011]\n",
      "9 day ouput [[0.5952817]]\n",
      "10 day input [0.87528987 0.89796437 0.89332638 0.85622258 0.83560936 0.83148671\n",
      " 0.81911878 0.81190408 0.81241942 0.79799021 0.80778143 0.81757275\n",
      " 0.82014937 0.82014937 0.82427211 0.85776861 0.85055391 0.83303264\n",
      " 0.84540068 0.87116723 0.86755983 0.88817315 0.8732285  0.86859052\n",
      " 0.86549856 0.82324142 0.82942534 0.81499613 0.79386757 0.81551148\n",
      " 0.81345011 0.8062355  0.85776861 0.82891    0.79644418 0.83818597\n",
      " 0.85776861 0.84797729 0.84488533 0.81499613 0.82942534 0.84849263\n",
      " 0.8922958  0.88868849 0.87065189 0.89796437 0.91393971 0.92424627\n",
      " 0.95516615 0.95362012 0.95774277 0.9592888  0.95413547 0.95155885\n",
      " 0.9438289  0.90208702 0.8922958  0.89693378 0.92630764 0.93919092\n",
      " 0.97681006 0.96908012 1.         0.96444213 0.91084765 0.87013654\n",
      " 0.85622258 0.83200206 0.80829677 0.80365879 0.77376959 0.81757275\n",
      " 0.86446787 0.86189125 0.87477453 0.82272608 0.82942534 0.80778143\n",
      " 0.82942534 0.85622258 0.83200206 0.79747487 0.79335222 0.82942534\n",
      " 0.82684872 0.80572016 0.8098428  0.83767063 0.82066471 0.79592884\n",
      " 0.82684872 0.80726609 0.7918062  0.81396545 0.81035815 0.80726609\n",
      " 0.81345011 0.85209994 0.88147379 0.87838183 0.88714247 0.92218499\n",
      " 0.89641844 0.9438289  0.91187833 0.9402216  0.89744903 0.92733833\n",
      " 0.90260236 0.92115431 0.92424627 0.92373093 0.9438289  0.9366142\n",
      " 0.93249156 0.91806235 0.92476161 0.90620966 0.88508109 0.87735115\n",
      " 0.87116723 0.83767063 0.81293476 0.74181912 0.70419987 0.7093532\n",
      " 0.7021386  0.70986855 0.71553722 0.69389331 0.70162326 0.68667871\n",
      " 0.68667871 0.70626124 0.67379543 0.68822464 0.69183194 0.71192992\n",
      " 0.69646993 0.67276474 0.67121871 0.66812676 0.65009015 0.65627416\n",
      " 0.65215152 0.62586962 0.66039681 0.61762433 0.60989429 0.60480011]\n"
     ]
    },
    {
     "name": "stdout",
     "output_type": "stream",
     "text": [
      "10 day ouput [[0.5952817]]\n",
      "11 day input [0.87528987 0.89796437 0.89332638 0.85622258 0.83560936 0.83148671\n",
      " 0.81911878 0.81190408 0.81241942 0.79799021 0.80778143 0.81757275\n",
      " 0.82014937 0.82014937 0.82427211 0.85776861 0.85055391 0.83303264\n",
      " 0.84540068 0.87116723 0.86755983 0.88817315 0.8732285  0.86859052\n",
      " 0.86549856 0.82324142 0.82942534 0.81499613 0.79386757 0.81551148\n",
      " 0.81345011 0.8062355  0.85776861 0.82891    0.79644418 0.83818597\n",
      " 0.85776861 0.84797729 0.84488533 0.81499613 0.82942534 0.84849263\n",
      " 0.8922958  0.88868849 0.87065189 0.89796437 0.91393971 0.92424627\n",
      " 0.95516615 0.95362012 0.95774277 0.9592888  0.95413547 0.95155885\n",
      " 0.9438289  0.90208702 0.8922958  0.89693378 0.92630764 0.93919092\n",
      " 0.97681006 0.96908012 1.         0.96444213 0.91084765 0.87013654\n",
      " 0.85622258 0.83200206 0.80829677 0.80365879 0.77376959 0.81757275\n",
      " 0.86446787 0.86189125 0.87477453 0.82272608 0.82942534 0.80778143\n",
      " 0.82942534 0.85622258 0.83200206 0.79747487 0.79335222 0.82942534\n",
      " 0.82684872 0.80572016 0.8098428  0.83767063 0.82066471 0.79592884\n",
      " 0.82684872 0.80726609 0.7918062  0.81396545 0.81035815 0.80726609\n",
      " 0.81345011 0.85209994 0.88147379 0.87838183 0.88714247 0.92218499\n",
      " 0.89641844 0.9438289  0.91187833 0.9402216  0.89744903 0.92733833\n",
      " 0.90260236 0.92115431 0.92424627 0.92373093 0.9438289  0.9366142\n",
      " 0.93249156 0.91806235 0.92476161 0.90620966 0.88508109 0.87735115\n",
      " 0.87116723 0.83767063 0.81293476 0.74181912 0.70419987 0.7093532\n",
      " 0.7021386  0.70986855 0.71553722 0.69389331 0.70162326 0.68667871\n",
      " 0.68667871 0.70626124 0.67379543 0.68822464 0.69183194 0.71192992\n",
      " 0.69646993 0.67276474 0.67121871 0.66812676 0.65009015 0.65627416\n",
      " 0.65215152 0.62586962 0.66039681 0.61762433 0.60989429 0.60480011]\n",
      "11 day ouput [[0.5952817]]\n",
      "12 day input [0.87528987 0.89796437 0.89332638 0.85622258 0.83560936 0.83148671\n",
      " 0.81911878 0.81190408 0.81241942 0.79799021 0.80778143 0.81757275\n",
      " 0.82014937 0.82014937 0.82427211 0.85776861 0.85055391 0.83303264\n",
      " 0.84540068 0.87116723 0.86755983 0.88817315 0.8732285  0.86859052\n",
      " 0.86549856 0.82324142 0.82942534 0.81499613 0.79386757 0.81551148\n",
      " 0.81345011 0.8062355  0.85776861 0.82891    0.79644418 0.83818597\n",
      " 0.85776861 0.84797729 0.84488533 0.81499613 0.82942534 0.84849263\n",
      " 0.8922958  0.88868849 0.87065189 0.89796437 0.91393971 0.92424627\n",
      " 0.95516615 0.95362012 0.95774277 0.9592888  0.95413547 0.95155885\n",
      " 0.9438289  0.90208702 0.8922958  0.89693378 0.92630764 0.93919092\n",
      " 0.97681006 0.96908012 1.         0.96444213 0.91084765 0.87013654\n",
      " 0.85622258 0.83200206 0.80829677 0.80365879 0.77376959 0.81757275\n",
      " 0.86446787 0.86189125 0.87477453 0.82272608 0.82942534 0.80778143\n",
      " 0.82942534 0.85622258 0.83200206 0.79747487 0.79335222 0.82942534\n",
      " 0.82684872 0.80572016 0.8098428  0.83767063 0.82066471 0.79592884\n",
      " 0.82684872 0.80726609 0.7918062  0.81396545 0.81035815 0.80726609\n",
      " 0.81345011 0.85209994 0.88147379 0.87838183 0.88714247 0.92218499\n",
      " 0.89641844 0.9438289  0.91187833 0.9402216  0.89744903 0.92733833\n",
      " 0.90260236 0.92115431 0.92424627 0.92373093 0.9438289  0.9366142\n",
      " 0.93249156 0.91806235 0.92476161 0.90620966 0.88508109 0.87735115\n",
      " 0.87116723 0.83767063 0.81293476 0.74181912 0.70419987 0.7093532\n",
      " 0.7021386  0.70986855 0.71553722 0.69389331 0.70162326 0.68667871\n",
      " 0.68667871 0.70626124 0.67379543 0.68822464 0.69183194 0.71192992\n",
      " 0.69646993 0.67276474 0.67121871 0.66812676 0.65009015 0.65627416\n",
      " 0.65215152 0.62586962 0.66039681 0.61762433 0.60989429 0.60480011]\n",
      "12 day ouput [[0.5952817]]\n",
      "13 day input [0.87528987 0.89796437 0.89332638 0.85622258 0.83560936 0.83148671\n",
      " 0.81911878 0.81190408 0.81241942 0.79799021 0.80778143 0.81757275\n",
      " 0.82014937 0.82014937 0.82427211 0.85776861 0.85055391 0.83303264\n",
      " 0.84540068 0.87116723 0.86755983 0.88817315 0.8732285  0.86859052\n",
      " 0.86549856 0.82324142 0.82942534 0.81499613 0.79386757 0.81551148\n",
      " 0.81345011 0.8062355  0.85776861 0.82891    0.79644418 0.83818597\n",
      " 0.85776861 0.84797729 0.84488533 0.81499613 0.82942534 0.84849263\n",
      " 0.8922958  0.88868849 0.87065189 0.89796437 0.91393971 0.92424627\n",
      " 0.95516615 0.95362012 0.95774277 0.9592888  0.95413547 0.95155885\n",
      " 0.9438289  0.90208702 0.8922958  0.89693378 0.92630764 0.93919092\n",
      " 0.97681006 0.96908012 1.         0.96444213 0.91084765 0.87013654\n",
      " 0.85622258 0.83200206 0.80829677 0.80365879 0.77376959 0.81757275\n",
      " 0.86446787 0.86189125 0.87477453 0.82272608 0.82942534 0.80778143\n",
      " 0.82942534 0.85622258 0.83200206 0.79747487 0.79335222 0.82942534\n",
      " 0.82684872 0.80572016 0.8098428  0.83767063 0.82066471 0.79592884\n",
      " 0.82684872 0.80726609 0.7918062  0.81396545 0.81035815 0.80726609\n",
      " 0.81345011 0.85209994 0.88147379 0.87838183 0.88714247 0.92218499\n",
      " 0.89641844 0.9438289  0.91187833 0.9402216  0.89744903 0.92733833\n",
      " 0.90260236 0.92115431 0.92424627 0.92373093 0.9438289  0.9366142\n",
      " 0.93249156 0.91806235 0.92476161 0.90620966 0.88508109 0.87735115\n",
      " 0.87116723 0.83767063 0.81293476 0.74181912 0.70419987 0.7093532\n",
      " 0.7021386  0.70986855 0.71553722 0.69389331 0.70162326 0.68667871\n",
      " 0.68667871 0.70626124 0.67379543 0.68822464 0.69183194 0.71192992\n",
      " 0.69646993 0.67276474 0.67121871 0.66812676 0.65009015 0.65627416\n",
      " 0.65215152 0.62586962 0.66039681 0.61762433 0.60989429 0.60480011]\n",
      "13 day ouput [[0.5952817]]\n",
      "14 day input [0.87528987 0.89796437 0.89332638 0.85622258 0.83560936 0.83148671\n",
      " 0.81911878 0.81190408 0.81241942 0.79799021 0.80778143 0.81757275\n",
      " 0.82014937 0.82014937 0.82427211 0.85776861 0.85055391 0.83303264\n",
      " 0.84540068 0.87116723 0.86755983 0.88817315 0.8732285  0.86859052\n",
      " 0.86549856 0.82324142 0.82942534 0.81499613 0.79386757 0.81551148\n",
      " 0.81345011 0.8062355  0.85776861 0.82891    0.79644418 0.83818597\n",
      " 0.85776861 0.84797729 0.84488533 0.81499613 0.82942534 0.84849263\n",
      " 0.8922958  0.88868849 0.87065189 0.89796437 0.91393971 0.92424627\n",
      " 0.95516615 0.95362012 0.95774277 0.9592888  0.95413547 0.95155885\n",
      " 0.9438289  0.90208702 0.8922958  0.89693378 0.92630764 0.93919092\n",
      " 0.97681006 0.96908012 1.         0.96444213 0.91084765 0.87013654\n",
      " 0.85622258 0.83200206 0.80829677 0.80365879 0.77376959 0.81757275\n",
      " 0.86446787 0.86189125 0.87477453 0.82272608 0.82942534 0.80778143\n",
      " 0.82942534 0.85622258 0.83200206 0.79747487 0.79335222 0.82942534\n",
      " 0.82684872 0.80572016 0.8098428  0.83767063 0.82066471 0.79592884\n",
      " 0.82684872 0.80726609 0.7918062  0.81396545 0.81035815 0.80726609\n",
      " 0.81345011 0.85209994 0.88147379 0.87838183 0.88714247 0.92218499\n",
      " 0.89641844 0.9438289  0.91187833 0.9402216  0.89744903 0.92733833\n",
      " 0.90260236 0.92115431 0.92424627 0.92373093 0.9438289  0.9366142\n",
      " 0.93249156 0.91806235 0.92476161 0.90620966 0.88508109 0.87735115\n",
      " 0.87116723 0.83767063 0.81293476 0.74181912 0.70419987 0.7093532\n",
      " 0.7021386  0.70986855 0.71553722 0.69389331 0.70162326 0.68667871\n",
      " 0.68667871 0.70626124 0.67379543 0.68822464 0.69183194 0.71192992\n",
      " 0.69646993 0.67276474 0.67121871 0.66812676 0.65009015 0.65627416\n",
      " 0.65215152 0.62586962 0.66039681 0.61762433 0.60989429 0.60480011]\n",
      "14 day ouput [[0.5952817]]\n",
      "15 day input [0.87528987 0.89796437 0.89332638 0.85622258 0.83560936 0.83148671\n",
      " 0.81911878 0.81190408 0.81241942 0.79799021 0.80778143 0.81757275\n",
      " 0.82014937 0.82014937 0.82427211 0.85776861 0.85055391 0.83303264\n",
      " 0.84540068 0.87116723 0.86755983 0.88817315 0.8732285  0.86859052\n",
      " 0.86549856 0.82324142 0.82942534 0.81499613 0.79386757 0.81551148\n",
      " 0.81345011 0.8062355  0.85776861 0.82891    0.79644418 0.83818597\n",
      " 0.85776861 0.84797729 0.84488533 0.81499613 0.82942534 0.84849263\n",
      " 0.8922958  0.88868849 0.87065189 0.89796437 0.91393971 0.92424627\n",
      " 0.95516615 0.95362012 0.95774277 0.9592888  0.95413547 0.95155885\n",
      " 0.9438289  0.90208702 0.8922958  0.89693378 0.92630764 0.93919092\n",
      " 0.97681006 0.96908012 1.         0.96444213 0.91084765 0.87013654\n",
      " 0.85622258 0.83200206 0.80829677 0.80365879 0.77376959 0.81757275\n",
      " 0.86446787 0.86189125 0.87477453 0.82272608 0.82942534 0.80778143\n",
      " 0.82942534 0.85622258 0.83200206 0.79747487 0.79335222 0.82942534\n",
      " 0.82684872 0.80572016 0.8098428  0.83767063 0.82066471 0.79592884\n",
      " 0.82684872 0.80726609 0.7918062  0.81396545 0.81035815 0.80726609\n",
      " 0.81345011 0.85209994 0.88147379 0.87838183 0.88714247 0.92218499\n",
      " 0.89641844 0.9438289  0.91187833 0.9402216  0.89744903 0.92733833\n",
      " 0.90260236 0.92115431 0.92424627 0.92373093 0.9438289  0.9366142\n",
      " 0.93249156 0.91806235 0.92476161 0.90620966 0.88508109 0.87735115\n",
      " 0.87116723 0.83767063 0.81293476 0.74181912 0.70419987 0.7093532\n",
      " 0.7021386  0.70986855 0.71553722 0.69389331 0.70162326 0.68667871\n",
      " 0.68667871 0.70626124 0.67379543 0.68822464 0.69183194 0.71192992\n",
      " 0.69646993 0.67276474 0.67121871 0.66812676 0.65009015 0.65627416\n",
      " 0.65215152 0.62586962 0.66039681 0.61762433 0.60989429 0.60480011]\n"
     ]
    },
    {
     "name": "stdout",
     "output_type": "stream",
     "text": [
      "15 day ouput [[0.5952817]]\n",
      "16 day input [0.87528987 0.89796437 0.89332638 0.85622258 0.83560936 0.83148671\n",
      " 0.81911878 0.81190408 0.81241942 0.79799021 0.80778143 0.81757275\n",
      " 0.82014937 0.82014937 0.82427211 0.85776861 0.85055391 0.83303264\n",
      " 0.84540068 0.87116723 0.86755983 0.88817315 0.8732285  0.86859052\n",
      " 0.86549856 0.82324142 0.82942534 0.81499613 0.79386757 0.81551148\n",
      " 0.81345011 0.8062355  0.85776861 0.82891    0.79644418 0.83818597\n",
      " 0.85776861 0.84797729 0.84488533 0.81499613 0.82942534 0.84849263\n",
      " 0.8922958  0.88868849 0.87065189 0.89796437 0.91393971 0.92424627\n",
      " 0.95516615 0.95362012 0.95774277 0.9592888  0.95413547 0.95155885\n",
      " 0.9438289  0.90208702 0.8922958  0.89693378 0.92630764 0.93919092\n",
      " 0.97681006 0.96908012 1.         0.96444213 0.91084765 0.87013654\n",
      " 0.85622258 0.83200206 0.80829677 0.80365879 0.77376959 0.81757275\n",
      " 0.86446787 0.86189125 0.87477453 0.82272608 0.82942534 0.80778143\n",
      " 0.82942534 0.85622258 0.83200206 0.79747487 0.79335222 0.82942534\n",
      " 0.82684872 0.80572016 0.8098428  0.83767063 0.82066471 0.79592884\n",
      " 0.82684872 0.80726609 0.7918062  0.81396545 0.81035815 0.80726609\n",
      " 0.81345011 0.85209994 0.88147379 0.87838183 0.88714247 0.92218499\n",
      " 0.89641844 0.9438289  0.91187833 0.9402216  0.89744903 0.92733833\n",
      " 0.90260236 0.92115431 0.92424627 0.92373093 0.9438289  0.9366142\n",
      " 0.93249156 0.91806235 0.92476161 0.90620966 0.88508109 0.87735115\n",
      " 0.87116723 0.83767063 0.81293476 0.74181912 0.70419987 0.7093532\n",
      " 0.7021386  0.70986855 0.71553722 0.69389331 0.70162326 0.68667871\n",
      " 0.68667871 0.70626124 0.67379543 0.68822464 0.69183194 0.71192992\n",
      " 0.69646993 0.67276474 0.67121871 0.66812676 0.65009015 0.65627416\n",
      " 0.65215152 0.62586962 0.66039681 0.61762433 0.60989429 0.60480011]\n",
      "16 day ouput [[0.5952817]]\n",
      "17 day input [0.87528987 0.89796437 0.89332638 0.85622258 0.83560936 0.83148671\n",
      " 0.81911878 0.81190408 0.81241942 0.79799021 0.80778143 0.81757275\n",
      " 0.82014937 0.82014937 0.82427211 0.85776861 0.85055391 0.83303264\n",
      " 0.84540068 0.87116723 0.86755983 0.88817315 0.8732285  0.86859052\n",
      " 0.86549856 0.82324142 0.82942534 0.81499613 0.79386757 0.81551148\n",
      " 0.81345011 0.8062355  0.85776861 0.82891    0.79644418 0.83818597\n",
      " 0.85776861 0.84797729 0.84488533 0.81499613 0.82942534 0.84849263\n",
      " 0.8922958  0.88868849 0.87065189 0.89796437 0.91393971 0.92424627\n",
      " 0.95516615 0.95362012 0.95774277 0.9592888  0.95413547 0.95155885\n",
      " 0.9438289  0.90208702 0.8922958  0.89693378 0.92630764 0.93919092\n",
      " 0.97681006 0.96908012 1.         0.96444213 0.91084765 0.87013654\n",
      " 0.85622258 0.83200206 0.80829677 0.80365879 0.77376959 0.81757275\n",
      " 0.86446787 0.86189125 0.87477453 0.82272608 0.82942534 0.80778143\n",
      " 0.82942534 0.85622258 0.83200206 0.79747487 0.79335222 0.82942534\n",
      " 0.82684872 0.80572016 0.8098428  0.83767063 0.82066471 0.79592884\n",
      " 0.82684872 0.80726609 0.7918062  0.81396545 0.81035815 0.80726609\n",
      " 0.81345011 0.85209994 0.88147379 0.87838183 0.88714247 0.92218499\n",
      " 0.89641844 0.9438289  0.91187833 0.9402216  0.89744903 0.92733833\n",
      " 0.90260236 0.92115431 0.92424627 0.92373093 0.9438289  0.9366142\n",
      " 0.93249156 0.91806235 0.92476161 0.90620966 0.88508109 0.87735115\n",
      " 0.87116723 0.83767063 0.81293476 0.74181912 0.70419987 0.7093532\n",
      " 0.7021386  0.70986855 0.71553722 0.69389331 0.70162326 0.68667871\n",
      " 0.68667871 0.70626124 0.67379543 0.68822464 0.69183194 0.71192992\n",
      " 0.69646993 0.67276474 0.67121871 0.66812676 0.65009015 0.65627416\n",
      " 0.65215152 0.62586962 0.66039681 0.61762433 0.60989429 0.60480011]\n",
      "17 day ouput [[0.5952817]]\n",
      "18 day input [0.87528987 0.89796437 0.89332638 0.85622258 0.83560936 0.83148671\n",
      " 0.81911878 0.81190408 0.81241942 0.79799021 0.80778143 0.81757275\n",
      " 0.82014937 0.82014937 0.82427211 0.85776861 0.85055391 0.83303264\n",
      " 0.84540068 0.87116723 0.86755983 0.88817315 0.8732285  0.86859052\n",
      " 0.86549856 0.82324142 0.82942534 0.81499613 0.79386757 0.81551148\n",
      " 0.81345011 0.8062355  0.85776861 0.82891    0.79644418 0.83818597\n",
      " 0.85776861 0.84797729 0.84488533 0.81499613 0.82942534 0.84849263\n",
      " 0.8922958  0.88868849 0.87065189 0.89796437 0.91393971 0.92424627\n",
      " 0.95516615 0.95362012 0.95774277 0.9592888  0.95413547 0.95155885\n",
      " 0.9438289  0.90208702 0.8922958  0.89693378 0.92630764 0.93919092\n",
      " 0.97681006 0.96908012 1.         0.96444213 0.91084765 0.87013654\n",
      " 0.85622258 0.83200206 0.80829677 0.80365879 0.77376959 0.81757275\n",
      " 0.86446787 0.86189125 0.87477453 0.82272608 0.82942534 0.80778143\n",
      " 0.82942534 0.85622258 0.83200206 0.79747487 0.79335222 0.82942534\n",
      " 0.82684872 0.80572016 0.8098428  0.83767063 0.82066471 0.79592884\n",
      " 0.82684872 0.80726609 0.7918062  0.81396545 0.81035815 0.80726609\n",
      " 0.81345011 0.85209994 0.88147379 0.87838183 0.88714247 0.92218499\n",
      " 0.89641844 0.9438289  0.91187833 0.9402216  0.89744903 0.92733833\n",
      " 0.90260236 0.92115431 0.92424627 0.92373093 0.9438289  0.9366142\n",
      " 0.93249156 0.91806235 0.92476161 0.90620966 0.88508109 0.87735115\n",
      " 0.87116723 0.83767063 0.81293476 0.74181912 0.70419987 0.7093532\n",
      " 0.7021386  0.70986855 0.71553722 0.69389331 0.70162326 0.68667871\n",
      " 0.68667871 0.70626124 0.67379543 0.68822464 0.69183194 0.71192992\n",
      " 0.69646993 0.67276474 0.67121871 0.66812676 0.65009015 0.65627416\n",
      " 0.65215152 0.62586962 0.66039681 0.61762433 0.60989429 0.60480011]\n",
      "18 day ouput [[0.5952817]]\n",
      "19 day input [0.87528987 0.89796437 0.89332638 0.85622258 0.83560936 0.83148671\n",
      " 0.81911878 0.81190408 0.81241942 0.79799021 0.80778143 0.81757275\n",
      " 0.82014937 0.82014937 0.82427211 0.85776861 0.85055391 0.83303264\n",
      " 0.84540068 0.87116723 0.86755983 0.88817315 0.8732285  0.86859052\n",
      " 0.86549856 0.82324142 0.82942534 0.81499613 0.79386757 0.81551148\n",
      " 0.81345011 0.8062355  0.85776861 0.82891    0.79644418 0.83818597\n",
      " 0.85776861 0.84797729 0.84488533 0.81499613 0.82942534 0.84849263\n",
      " 0.8922958  0.88868849 0.87065189 0.89796437 0.91393971 0.92424627\n",
      " 0.95516615 0.95362012 0.95774277 0.9592888  0.95413547 0.95155885\n",
      " 0.9438289  0.90208702 0.8922958  0.89693378 0.92630764 0.93919092\n",
      " 0.97681006 0.96908012 1.         0.96444213 0.91084765 0.87013654\n",
      " 0.85622258 0.83200206 0.80829677 0.80365879 0.77376959 0.81757275\n",
      " 0.86446787 0.86189125 0.87477453 0.82272608 0.82942534 0.80778143\n",
      " 0.82942534 0.85622258 0.83200206 0.79747487 0.79335222 0.82942534\n",
      " 0.82684872 0.80572016 0.8098428  0.83767063 0.82066471 0.79592884\n",
      " 0.82684872 0.80726609 0.7918062  0.81396545 0.81035815 0.80726609\n",
      " 0.81345011 0.85209994 0.88147379 0.87838183 0.88714247 0.92218499\n",
      " 0.89641844 0.9438289  0.91187833 0.9402216  0.89744903 0.92733833\n",
      " 0.90260236 0.92115431 0.92424627 0.92373093 0.9438289  0.9366142\n",
      " 0.93249156 0.91806235 0.92476161 0.90620966 0.88508109 0.87735115\n",
      " 0.87116723 0.83767063 0.81293476 0.74181912 0.70419987 0.7093532\n",
      " 0.7021386  0.70986855 0.71553722 0.69389331 0.70162326 0.68667871\n",
      " 0.68667871 0.70626124 0.67379543 0.68822464 0.69183194 0.71192992\n",
      " 0.69646993 0.67276474 0.67121871 0.66812676 0.65009015 0.65627416\n",
      " 0.65215152 0.62586962 0.66039681 0.61762433 0.60989429 0.60480011]\n",
      "19 day ouput [[0.5952817]]\n",
      "20 day input [0.87528987 0.89796437 0.89332638 0.85622258 0.83560936 0.83148671\n",
      " 0.81911878 0.81190408 0.81241942 0.79799021 0.80778143 0.81757275\n",
      " 0.82014937 0.82014937 0.82427211 0.85776861 0.85055391 0.83303264\n",
      " 0.84540068 0.87116723 0.86755983 0.88817315 0.8732285  0.86859052\n",
      " 0.86549856 0.82324142 0.82942534 0.81499613 0.79386757 0.81551148\n",
      " 0.81345011 0.8062355  0.85776861 0.82891    0.79644418 0.83818597\n",
      " 0.85776861 0.84797729 0.84488533 0.81499613 0.82942534 0.84849263\n",
      " 0.8922958  0.88868849 0.87065189 0.89796437 0.91393971 0.92424627\n",
      " 0.95516615 0.95362012 0.95774277 0.9592888  0.95413547 0.95155885\n",
      " 0.9438289  0.90208702 0.8922958  0.89693378 0.92630764 0.93919092\n",
      " 0.97681006 0.96908012 1.         0.96444213 0.91084765 0.87013654\n",
      " 0.85622258 0.83200206 0.80829677 0.80365879 0.77376959 0.81757275\n",
      " 0.86446787 0.86189125 0.87477453 0.82272608 0.82942534 0.80778143\n",
      " 0.82942534 0.85622258 0.83200206 0.79747487 0.79335222 0.82942534\n",
      " 0.82684872 0.80572016 0.8098428  0.83767063 0.82066471 0.79592884\n",
      " 0.82684872 0.80726609 0.7918062  0.81396545 0.81035815 0.80726609\n",
      " 0.81345011 0.85209994 0.88147379 0.87838183 0.88714247 0.92218499\n",
      " 0.89641844 0.9438289  0.91187833 0.9402216  0.89744903 0.92733833\n",
      " 0.90260236 0.92115431 0.92424627 0.92373093 0.9438289  0.9366142\n",
      " 0.93249156 0.91806235 0.92476161 0.90620966 0.88508109 0.87735115\n",
      " 0.87116723 0.83767063 0.81293476 0.74181912 0.70419987 0.7093532\n",
      " 0.7021386  0.70986855 0.71553722 0.69389331 0.70162326 0.68667871\n",
      " 0.68667871 0.70626124 0.67379543 0.68822464 0.69183194 0.71192992\n",
      " 0.69646993 0.67276474 0.67121871 0.66812676 0.65009015 0.65627416\n",
      " 0.65215152 0.62586962 0.66039681 0.61762433 0.60989429 0.60480011]\n"
     ]
    },
    {
     "name": "stdout",
     "output_type": "stream",
     "text": [
      "20 day ouput [[0.5952817]]\n",
      "21 day input [0.87528987 0.89796437 0.89332638 0.85622258 0.83560936 0.83148671\n",
      " 0.81911878 0.81190408 0.81241942 0.79799021 0.80778143 0.81757275\n",
      " 0.82014937 0.82014937 0.82427211 0.85776861 0.85055391 0.83303264\n",
      " 0.84540068 0.87116723 0.86755983 0.88817315 0.8732285  0.86859052\n",
      " 0.86549856 0.82324142 0.82942534 0.81499613 0.79386757 0.81551148\n",
      " 0.81345011 0.8062355  0.85776861 0.82891    0.79644418 0.83818597\n",
      " 0.85776861 0.84797729 0.84488533 0.81499613 0.82942534 0.84849263\n",
      " 0.8922958  0.88868849 0.87065189 0.89796437 0.91393971 0.92424627\n",
      " 0.95516615 0.95362012 0.95774277 0.9592888  0.95413547 0.95155885\n",
      " 0.9438289  0.90208702 0.8922958  0.89693378 0.92630764 0.93919092\n",
      " 0.97681006 0.96908012 1.         0.96444213 0.91084765 0.87013654\n",
      " 0.85622258 0.83200206 0.80829677 0.80365879 0.77376959 0.81757275\n",
      " 0.86446787 0.86189125 0.87477453 0.82272608 0.82942534 0.80778143\n",
      " 0.82942534 0.85622258 0.83200206 0.79747487 0.79335222 0.82942534\n",
      " 0.82684872 0.80572016 0.8098428  0.83767063 0.82066471 0.79592884\n",
      " 0.82684872 0.80726609 0.7918062  0.81396545 0.81035815 0.80726609\n",
      " 0.81345011 0.85209994 0.88147379 0.87838183 0.88714247 0.92218499\n",
      " 0.89641844 0.9438289  0.91187833 0.9402216  0.89744903 0.92733833\n",
      " 0.90260236 0.92115431 0.92424627 0.92373093 0.9438289  0.9366142\n",
      " 0.93249156 0.91806235 0.92476161 0.90620966 0.88508109 0.87735115\n",
      " 0.87116723 0.83767063 0.81293476 0.74181912 0.70419987 0.7093532\n",
      " 0.7021386  0.70986855 0.71553722 0.69389331 0.70162326 0.68667871\n",
      " 0.68667871 0.70626124 0.67379543 0.68822464 0.69183194 0.71192992\n",
      " 0.69646993 0.67276474 0.67121871 0.66812676 0.65009015 0.65627416\n",
      " 0.65215152 0.62586962 0.66039681 0.61762433 0.60989429 0.60480011]\n",
      "21 day ouput [[0.5952817]]\n",
      "22 day input [0.87528987 0.89796437 0.89332638 0.85622258 0.83560936 0.83148671\n",
      " 0.81911878 0.81190408 0.81241942 0.79799021 0.80778143 0.81757275\n",
      " 0.82014937 0.82014937 0.82427211 0.85776861 0.85055391 0.83303264\n",
      " 0.84540068 0.87116723 0.86755983 0.88817315 0.8732285  0.86859052\n",
      " 0.86549856 0.82324142 0.82942534 0.81499613 0.79386757 0.81551148\n",
      " 0.81345011 0.8062355  0.85776861 0.82891    0.79644418 0.83818597\n",
      " 0.85776861 0.84797729 0.84488533 0.81499613 0.82942534 0.84849263\n",
      " 0.8922958  0.88868849 0.87065189 0.89796437 0.91393971 0.92424627\n",
      " 0.95516615 0.95362012 0.95774277 0.9592888  0.95413547 0.95155885\n",
      " 0.9438289  0.90208702 0.8922958  0.89693378 0.92630764 0.93919092\n",
      " 0.97681006 0.96908012 1.         0.96444213 0.91084765 0.87013654\n",
      " 0.85622258 0.83200206 0.80829677 0.80365879 0.77376959 0.81757275\n",
      " 0.86446787 0.86189125 0.87477453 0.82272608 0.82942534 0.80778143\n",
      " 0.82942534 0.85622258 0.83200206 0.79747487 0.79335222 0.82942534\n",
      " 0.82684872 0.80572016 0.8098428  0.83767063 0.82066471 0.79592884\n",
      " 0.82684872 0.80726609 0.7918062  0.81396545 0.81035815 0.80726609\n",
      " 0.81345011 0.85209994 0.88147379 0.87838183 0.88714247 0.92218499\n",
      " 0.89641844 0.9438289  0.91187833 0.9402216  0.89744903 0.92733833\n",
      " 0.90260236 0.92115431 0.92424627 0.92373093 0.9438289  0.9366142\n",
      " 0.93249156 0.91806235 0.92476161 0.90620966 0.88508109 0.87735115\n",
      " 0.87116723 0.83767063 0.81293476 0.74181912 0.70419987 0.7093532\n",
      " 0.7021386  0.70986855 0.71553722 0.69389331 0.70162326 0.68667871\n",
      " 0.68667871 0.70626124 0.67379543 0.68822464 0.69183194 0.71192992\n",
      " 0.69646993 0.67276474 0.67121871 0.66812676 0.65009015 0.65627416\n",
      " 0.65215152 0.62586962 0.66039681 0.61762433 0.60989429 0.60480011]\n",
      "22 day ouput [[0.5952817]]\n",
      "23 day input [0.87528987 0.89796437 0.89332638 0.85622258 0.83560936 0.83148671\n",
      " 0.81911878 0.81190408 0.81241942 0.79799021 0.80778143 0.81757275\n",
      " 0.82014937 0.82014937 0.82427211 0.85776861 0.85055391 0.83303264\n",
      " 0.84540068 0.87116723 0.86755983 0.88817315 0.8732285  0.86859052\n",
      " 0.86549856 0.82324142 0.82942534 0.81499613 0.79386757 0.81551148\n",
      " 0.81345011 0.8062355  0.85776861 0.82891    0.79644418 0.83818597\n",
      " 0.85776861 0.84797729 0.84488533 0.81499613 0.82942534 0.84849263\n",
      " 0.8922958  0.88868849 0.87065189 0.89796437 0.91393971 0.92424627\n",
      " 0.95516615 0.95362012 0.95774277 0.9592888  0.95413547 0.95155885\n",
      " 0.9438289  0.90208702 0.8922958  0.89693378 0.92630764 0.93919092\n",
      " 0.97681006 0.96908012 1.         0.96444213 0.91084765 0.87013654\n",
      " 0.85622258 0.83200206 0.80829677 0.80365879 0.77376959 0.81757275\n",
      " 0.86446787 0.86189125 0.87477453 0.82272608 0.82942534 0.80778143\n",
      " 0.82942534 0.85622258 0.83200206 0.79747487 0.79335222 0.82942534\n",
      " 0.82684872 0.80572016 0.8098428  0.83767063 0.82066471 0.79592884\n",
      " 0.82684872 0.80726609 0.7918062  0.81396545 0.81035815 0.80726609\n",
      " 0.81345011 0.85209994 0.88147379 0.87838183 0.88714247 0.92218499\n",
      " 0.89641844 0.9438289  0.91187833 0.9402216  0.89744903 0.92733833\n",
      " 0.90260236 0.92115431 0.92424627 0.92373093 0.9438289  0.9366142\n",
      " 0.93249156 0.91806235 0.92476161 0.90620966 0.88508109 0.87735115\n",
      " 0.87116723 0.83767063 0.81293476 0.74181912 0.70419987 0.7093532\n",
      " 0.7021386  0.70986855 0.71553722 0.69389331 0.70162326 0.68667871\n",
      " 0.68667871 0.70626124 0.67379543 0.68822464 0.69183194 0.71192992\n",
      " 0.69646993 0.67276474 0.67121871 0.66812676 0.65009015 0.65627416\n",
      " 0.65215152 0.62586962 0.66039681 0.61762433 0.60989429 0.60480011]\n",
      "23 day ouput [[0.5952817]]\n",
      "24 day input [0.87528987 0.89796437 0.89332638 0.85622258 0.83560936 0.83148671\n",
      " 0.81911878 0.81190408 0.81241942 0.79799021 0.80778143 0.81757275\n",
      " 0.82014937 0.82014937 0.82427211 0.85776861 0.85055391 0.83303264\n",
      " 0.84540068 0.87116723 0.86755983 0.88817315 0.8732285  0.86859052\n",
      " 0.86549856 0.82324142 0.82942534 0.81499613 0.79386757 0.81551148\n",
      " 0.81345011 0.8062355  0.85776861 0.82891    0.79644418 0.83818597\n",
      " 0.85776861 0.84797729 0.84488533 0.81499613 0.82942534 0.84849263\n",
      " 0.8922958  0.88868849 0.87065189 0.89796437 0.91393971 0.92424627\n",
      " 0.95516615 0.95362012 0.95774277 0.9592888  0.95413547 0.95155885\n",
      " 0.9438289  0.90208702 0.8922958  0.89693378 0.92630764 0.93919092\n",
      " 0.97681006 0.96908012 1.         0.96444213 0.91084765 0.87013654\n",
      " 0.85622258 0.83200206 0.80829677 0.80365879 0.77376959 0.81757275\n",
      " 0.86446787 0.86189125 0.87477453 0.82272608 0.82942534 0.80778143\n",
      " 0.82942534 0.85622258 0.83200206 0.79747487 0.79335222 0.82942534\n",
      " 0.82684872 0.80572016 0.8098428  0.83767063 0.82066471 0.79592884\n",
      " 0.82684872 0.80726609 0.7918062  0.81396545 0.81035815 0.80726609\n",
      " 0.81345011 0.85209994 0.88147379 0.87838183 0.88714247 0.92218499\n",
      " 0.89641844 0.9438289  0.91187833 0.9402216  0.89744903 0.92733833\n",
      " 0.90260236 0.92115431 0.92424627 0.92373093 0.9438289  0.9366142\n",
      " 0.93249156 0.91806235 0.92476161 0.90620966 0.88508109 0.87735115\n",
      " 0.87116723 0.83767063 0.81293476 0.74181912 0.70419987 0.7093532\n",
      " 0.7021386  0.70986855 0.71553722 0.69389331 0.70162326 0.68667871\n",
      " 0.68667871 0.70626124 0.67379543 0.68822464 0.69183194 0.71192992\n",
      " 0.69646993 0.67276474 0.67121871 0.66812676 0.65009015 0.65627416\n",
      " 0.65215152 0.62586962 0.66039681 0.61762433 0.60989429 0.60480011]\n",
      "24 day ouput [[0.5952817]]\n",
      "25 day input [0.87528987 0.89796437 0.89332638 0.85622258 0.83560936 0.83148671\n",
      " 0.81911878 0.81190408 0.81241942 0.79799021 0.80778143 0.81757275\n",
      " 0.82014937 0.82014937 0.82427211 0.85776861 0.85055391 0.83303264\n",
      " 0.84540068 0.87116723 0.86755983 0.88817315 0.8732285  0.86859052\n",
      " 0.86549856 0.82324142 0.82942534 0.81499613 0.79386757 0.81551148\n",
      " 0.81345011 0.8062355  0.85776861 0.82891    0.79644418 0.83818597\n",
      " 0.85776861 0.84797729 0.84488533 0.81499613 0.82942534 0.84849263\n",
      " 0.8922958  0.88868849 0.87065189 0.89796437 0.91393971 0.92424627\n",
      " 0.95516615 0.95362012 0.95774277 0.9592888  0.95413547 0.95155885\n",
      " 0.9438289  0.90208702 0.8922958  0.89693378 0.92630764 0.93919092\n",
      " 0.97681006 0.96908012 1.         0.96444213 0.91084765 0.87013654\n",
      " 0.85622258 0.83200206 0.80829677 0.80365879 0.77376959 0.81757275\n",
      " 0.86446787 0.86189125 0.87477453 0.82272608 0.82942534 0.80778143\n",
      " 0.82942534 0.85622258 0.83200206 0.79747487 0.79335222 0.82942534\n",
      " 0.82684872 0.80572016 0.8098428  0.83767063 0.82066471 0.79592884\n",
      " 0.82684872 0.80726609 0.7918062  0.81396545 0.81035815 0.80726609\n",
      " 0.81345011 0.85209994 0.88147379 0.87838183 0.88714247 0.92218499\n",
      " 0.89641844 0.9438289  0.91187833 0.9402216  0.89744903 0.92733833\n",
      " 0.90260236 0.92115431 0.92424627 0.92373093 0.9438289  0.9366142\n",
      " 0.93249156 0.91806235 0.92476161 0.90620966 0.88508109 0.87735115\n",
      " 0.87116723 0.83767063 0.81293476 0.74181912 0.70419987 0.7093532\n",
      " 0.7021386  0.70986855 0.71553722 0.69389331 0.70162326 0.68667871\n",
      " 0.68667871 0.70626124 0.67379543 0.68822464 0.69183194 0.71192992\n",
      " 0.69646993 0.67276474 0.67121871 0.66812676 0.65009015 0.65627416\n",
      " 0.65215152 0.62586962 0.66039681 0.61762433 0.60989429 0.60480011]\n"
     ]
    },
    {
     "name": "stdout",
     "output_type": "stream",
     "text": [
      "25 day ouput [[0.5952817]]\n",
      "26 day input [0.87528987 0.89796437 0.89332638 0.85622258 0.83560936 0.83148671\n",
      " 0.81911878 0.81190408 0.81241942 0.79799021 0.80778143 0.81757275\n",
      " 0.82014937 0.82014937 0.82427211 0.85776861 0.85055391 0.83303264\n",
      " 0.84540068 0.87116723 0.86755983 0.88817315 0.8732285  0.86859052\n",
      " 0.86549856 0.82324142 0.82942534 0.81499613 0.79386757 0.81551148\n",
      " 0.81345011 0.8062355  0.85776861 0.82891    0.79644418 0.83818597\n",
      " 0.85776861 0.84797729 0.84488533 0.81499613 0.82942534 0.84849263\n",
      " 0.8922958  0.88868849 0.87065189 0.89796437 0.91393971 0.92424627\n",
      " 0.95516615 0.95362012 0.95774277 0.9592888  0.95413547 0.95155885\n",
      " 0.9438289  0.90208702 0.8922958  0.89693378 0.92630764 0.93919092\n",
      " 0.97681006 0.96908012 1.         0.96444213 0.91084765 0.87013654\n",
      " 0.85622258 0.83200206 0.80829677 0.80365879 0.77376959 0.81757275\n",
      " 0.86446787 0.86189125 0.87477453 0.82272608 0.82942534 0.80778143\n",
      " 0.82942534 0.85622258 0.83200206 0.79747487 0.79335222 0.82942534\n",
      " 0.82684872 0.80572016 0.8098428  0.83767063 0.82066471 0.79592884\n",
      " 0.82684872 0.80726609 0.7918062  0.81396545 0.81035815 0.80726609\n",
      " 0.81345011 0.85209994 0.88147379 0.87838183 0.88714247 0.92218499\n",
      " 0.89641844 0.9438289  0.91187833 0.9402216  0.89744903 0.92733833\n",
      " 0.90260236 0.92115431 0.92424627 0.92373093 0.9438289  0.9366142\n",
      " 0.93249156 0.91806235 0.92476161 0.90620966 0.88508109 0.87735115\n",
      " 0.87116723 0.83767063 0.81293476 0.74181912 0.70419987 0.7093532\n",
      " 0.7021386  0.70986855 0.71553722 0.69389331 0.70162326 0.68667871\n",
      " 0.68667871 0.70626124 0.67379543 0.68822464 0.69183194 0.71192992\n",
      " 0.69646993 0.67276474 0.67121871 0.66812676 0.65009015 0.65627416\n",
      " 0.65215152 0.62586962 0.66039681 0.61762433 0.60989429 0.60480011]\n",
      "26 day ouput [[0.5952817]]\n",
      "27 day input [0.87528987 0.89796437 0.89332638 0.85622258 0.83560936 0.83148671\n",
      " 0.81911878 0.81190408 0.81241942 0.79799021 0.80778143 0.81757275\n",
      " 0.82014937 0.82014937 0.82427211 0.85776861 0.85055391 0.83303264\n",
      " 0.84540068 0.87116723 0.86755983 0.88817315 0.8732285  0.86859052\n",
      " 0.86549856 0.82324142 0.82942534 0.81499613 0.79386757 0.81551148\n",
      " 0.81345011 0.8062355  0.85776861 0.82891    0.79644418 0.83818597\n",
      " 0.85776861 0.84797729 0.84488533 0.81499613 0.82942534 0.84849263\n",
      " 0.8922958  0.88868849 0.87065189 0.89796437 0.91393971 0.92424627\n",
      " 0.95516615 0.95362012 0.95774277 0.9592888  0.95413547 0.95155885\n",
      " 0.9438289  0.90208702 0.8922958  0.89693378 0.92630764 0.93919092\n",
      " 0.97681006 0.96908012 1.         0.96444213 0.91084765 0.87013654\n",
      " 0.85622258 0.83200206 0.80829677 0.80365879 0.77376959 0.81757275\n",
      " 0.86446787 0.86189125 0.87477453 0.82272608 0.82942534 0.80778143\n",
      " 0.82942534 0.85622258 0.83200206 0.79747487 0.79335222 0.82942534\n",
      " 0.82684872 0.80572016 0.8098428  0.83767063 0.82066471 0.79592884\n",
      " 0.82684872 0.80726609 0.7918062  0.81396545 0.81035815 0.80726609\n",
      " 0.81345011 0.85209994 0.88147379 0.87838183 0.88714247 0.92218499\n",
      " 0.89641844 0.9438289  0.91187833 0.9402216  0.89744903 0.92733833\n",
      " 0.90260236 0.92115431 0.92424627 0.92373093 0.9438289  0.9366142\n",
      " 0.93249156 0.91806235 0.92476161 0.90620966 0.88508109 0.87735115\n",
      " 0.87116723 0.83767063 0.81293476 0.74181912 0.70419987 0.7093532\n",
      " 0.7021386  0.70986855 0.71553722 0.69389331 0.70162326 0.68667871\n",
      " 0.68667871 0.70626124 0.67379543 0.68822464 0.69183194 0.71192992\n",
      " 0.69646993 0.67276474 0.67121871 0.66812676 0.65009015 0.65627416\n",
      " 0.65215152 0.62586962 0.66039681 0.61762433 0.60989429 0.60480011]\n",
      "27 day ouput [[0.5952817]]\n",
      "28 day input [0.87528987 0.89796437 0.89332638 0.85622258 0.83560936 0.83148671\n",
      " 0.81911878 0.81190408 0.81241942 0.79799021 0.80778143 0.81757275\n",
      " 0.82014937 0.82014937 0.82427211 0.85776861 0.85055391 0.83303264\n",
      " 0.84540068 0.87116723 0.86755983 0.88817315 0.8732285  0.86859052\n",
      " 0.86549856 0.82324142 0.82942534 0.81499613 0.79386757 0.81551148\n",
      " 0.81345011 0.8062355  0.85776861 0.82891    0.79644418 0.83818597\n",
      " 0.85776861 0.84797729 0.84488533 0.81499613 0.82942534 0.84849263\n",
      " 0.8922958  0.88868849 0.87065189 0.89796437 0.91393971 0.92424627\n",
      " 0.95516615 0.95362012 0.95774277 0.9592888  0.95413547 0.95155885\n",
      " 0.9438289  0.90208702 0.8922958  0.89693378 0.92630764 0.93919092\n",
      " 0.97681006 0.96908012 1.         0.96444213 0.91084765 0.87013654\n",
      " 0.85622258 0.83200206 0.80829677 0.80365879 0.77376959 0.81757275\n",
      " 0.86446787 0.86189125 0.87477453 0.82272608 0.82942534 0.80778143\n",
      " 0.82942534 0.85622258 0.83200206 0.79747487 0.79335222 0.82942534\n",
      " 0.82684872 0.80572016 0.8098428  0.83767063 0.82066471 0.79592884\n",
      " 0.82684872 0.80726609 0.7918062  0.81396545 0.81035815 0.80726609\n",
      " 0.81345011 0.85209994 0.88147379 0.87838183 0.88714247 0.92218499\n",
      " 0.89641844 0.9438289  0.91187833 0.9402216  0.89744903 0.92733833\n",
      " 0.90260236 0.92115431 0.92424627 0.92373093 0.9438289  0.9366142\n",
      " 0.93249156 0.91806235 0.92476161 0.90620966 0.88508109 0.87735115\n",
      " 0.87116723 0.83767063 0.81293476 0.74181912 0.70419987 0.7093532\n",
      " 0.7021386  0.70986855 0.71553722 0.69389331 0.70162326 0.68667871\n",
      " 0.68667871 0.70626124 0.67379543 0.68822464 0.69183194 0.71192992\n",
      " 0.69646993 0.67276474 0.67121871 0.66812676 0.65009015 0.65627416\n",
      " 0.65215152 0.62586962 0.66039681 0.61762433 0.60989429 0.60480011]\n",
      "28 day ouput [[0.5952817]]\n",
      "29 day input [0.87528987 0.89796437 0.89332638 0.85622258 0.83560936 0.83148671\n",
      " 0.81911878 0.81190408 0.81241942 0.79799021 0.80778143 0.81757275\n",
      " 0.82014937 0.82014937 0.82427211 0.85776861 0.85055391 0.83303264\n",
      " 0.84540068 0.87116723 0.86755983 0.88817315 0.8732285  0.86859052\n",
      " 0.86549856 0.82324142 0.82942534 0.81499613 0.79386757 0.81551148\n",
      " 0.81345011 0.8062355  0.85776861 0.82891    0.79644418 0.83818597\n",
      " 0.85776861 0.84797729 0.84488533 0.81499613 0.82942534 0.84849263\n",
      " 0.8922958  0.88868849 0.87065189 0.89796437 0.91393971 0.92424627\n",
      " 0.95516615 0.95362012 0.95774277 0.9592888  0.95413547 0.95155885\n",
      " 0.9438289  0.90208702 0.8922958  0.89693378 0.92630764 0.93919092\n",
      " 0.97681006 0.96908012 1.         0.96444213 0.91084765 0.87013654\n",
      " 0.85622258 0.83200206 0.80829677 0.80365879 0.77376959 0.81757275\n",
      " 0.86446787 0.86189125 0.87477453 0.82272608 0.82942534 0.80778143\n",
      " 0.82942534 0.85622258 0.83200206 0.79747487 0.79335222 0.82942534\n",
      " 0.82684872 0.80572016 0.8098428  0.83767063 0.82066471 0.79592884\n",
      " 0.82684872 0.80726609 0.7918062  0.81396545 0.81035815 0.80726609\n",
      " 0.81345011 0.85209994 0.88147379 0.87838183 0.88714247 0.92218499\n",
      " 0.89641844 0.9438289  0.91187833 0.9402216  0.89744903 0.92733833\n",
      " 0.90260236 0.92115431 0.92424627 0.92373093 0.9438289  0.9366142\n",
      " 0.93249156 0.91806235 0.92476161 0.90620966 0.88508109 0.87735115\n",
      " 0.87116723 0.83767063 0.81293476 0.74181912 0.70419987 0.7093532\n",
      " 0.7021386  0.70986855 0.71553722 0.69389331 0.70162326 0.68667871\n",
      " 0.68667871 0.70626124 0.67379543 0.68822464 0.69183194 0.71192992\n",
      " 0.69646993 0.67276474 0.67121871 0.66812676 0.65009015 0.65627416\n",
      " 0.65215152 0.62586962 0.66039681 0.61762433 0.60989429 0.60480011]\n",
      "29 day ouput [[0.5952817]]\n"
     ]
    }
   ],
   "source": [
    "lst_output=[]\n",
    "n_steps = 150\n",
    "i=0\n",
    "while(i<30):\n",
    "    if (len(temp_input)>150):\n",
    "        x_input = np.array(temp_input[1:])\n",
    "        print(\"{} day input {}\".format(i,x_input))\n",
    "        x_input=x_input.reshape(1,-1)\n",
    "        x_input=x_input.reshape((1,n_steps,1))\n",
    "        yhat = model.predict(x_input, verbose=0)\n",
    "        print(\"{} day ouput {}\".format(i,yhat))\n",
    "        lst_output.extend(yhat.tolist())\n",
    "        i=i+1\n",
    "    else:\n",
    "        x_input = x_input.reshape((1,n_steps,1))\n",
    "        yhat = model.predict(x_input,verbose=0)\n",
    "        print(yhat[0])\n",
    "        temp_input.extend(yhat[0].tolist())\n",
    "        print(len(temp_input))\n",
    "        lst_output.extend(yhat.tolist())\n",
    "        i=i+1"
   ]
  },
  {
   "cell_type": "code",
   "execution_count": 145,
   "id": "ac4cd488",
   "metadata": {
    "scrolled": true
   },
   "outputs": [
    {
     "name": "stdout",
     "output_type": "stream",
     "text": [
      "[[0.6048001050949097], [0.595281720161438], [0.595281720161438], [0.595281720161438], [0.595281720161438], [0.595281720161438], [0.595281720161438], [0.595281720161438], [0.595281720161438], [0.595281720161438], [0.595281720161438], [0.595281720161438], [0.595281720161438], [0.595281720161438], [0.595281720161438], [0.595281720161438], [0.595281720161438], [0.595281720161438], [0.595281720161438], [0.595281720161438], [0.595281720161438], [0.595281720161438], [0.595281720161438], [0.595281720161438], [0.595281720161438], [0.595281720161438], [0.595281720161438], [0.595281720161438], [0.595281720161438], [0.595281720161438]]\n"
     ]
    }
   ],
   "source": [
    "print(lst_output)"
   ]
  },
  {
   "cell_type": "code",
   "execution_count": 146,
   "id": "0a307a8e",
   "metadata": {},
   "outputs": [],
   "source": [
    "day_new=np.arange(1,151)\n",
    "day_pred =np.arange(151,181)"
   ]
  },
  {
   "cell_type": "code",
   "execution_count": 169,
   "id": "b7bc7f24",
   "metadata": {},
   "outputs": [
    {
     "data": {
      "text/plain": [
       "array([  1,   2,   3,   4,   5,   6,   7,   8,   9,  10,  11,  12,  13,\n",
       "        14,  15,  16,  17,  18,  19,  20,  21,  22,  23,  24,  25,  26,\n",
       "        27,  28,  29,  30,  31,  32,  33,  34,  35,  36,  37,  38,  39,\n",
       "        40,  41,  42,  43,  44,  45,  46,  47,  48,  49,  50,  51,  52,\n",
       "        53,  54,  55,  56,  57,  58,  59,  60,  61,  62,  63,  64,  65,\n",
       "        66,  67,  68,  69,  70,  71,  72,  73,  74,  75,  76,  77,  78,\n",
       "        79,  80,  81,  82,  83,  84,  85,  86,  87,  88,  89,  90,  91,\n",
       "        92,  93,  94,  95,  96,  97,  98,  99, 100, 101, 102, 103, 104,\n",
       "       105, 106, 107, 108, 109, 110, 111, 112, 113, 114, 115, 116, 117,\n",
       "       118, 119, 120, 121, 122, 123, 124, 125, 126, 127, 128, 129, 130,\n",
       "       131, 132, 133, 134, 135, 136, 137, 138, 139, 140, 141, 142, 143,\n",
       "       144, 145, 146, 147, 148, 149, 150])"
      ]
     },
     "execution_count": 169,
     "metadata": {},
     "output_type": "execute_result"
    }
   ],
   "source": [
    "day_new"
   ]
  },
  {
   "cell_type": "code",
   "execution_count": 147,
   "id": "faf8194c",
   "metadata": {},
   "outputs": [
    {
     "data": {
      "text/plain": [
       "1860"
      ]
     },
     "execution_count": 147,
     "metadata": {},
     "output_type": "execute_result"
    }
   ],
   "source": [
    "len(df2)"
   ]
  },
  {
   "cell_type": "code",
   "execution_count": 172,
   "id": "d17186f7",
   "metadata": {},
   "outputs": [
    {
     "data": {
      "text/plain": [
       "[<matplotlib.lines.Line2D at 0x129768021a0>]"
      ]
     },
     "execution_count": 172,
     "metadata": {},
     "output_type": "execute_result"
    },
    {
     "data": {
      "image/png": "[encoded data removed]",
      "text/plain": [
       "<Figure size 432x288 with 1 Axes>"
      ]
     },
     "metadata": {
      "needs_background": "light"
     },
     "output_type": "display_data"
    }
   ],
   "source": [
    "plt.plot(day_new,scaler.inverse_transform(df2[len(df2)-150:]))\n",
    "plt.plot(day_pred,scaler.inverse_transform(lst_output))"
   ]
  },
  {
   "cell_type": "code",
   "execution_count": 150,
   "id": "51515231",
   "metadata": {},
   "outputs": [
    {
     "data": {
      "text/plain": [
       "[<matplotlib.lines.Line2D at 0x129755f6d40>]"
      ]
     },
     "execution_count": 150,
     "metadata": {},
     "output_type": "execute_result"
    },
    {
     "data": {
      "image/png": "[encoded data removed]",
      "text/plain": [
       "<Figure size 432x288 with 1 Axes>"
      ]
     },
     "metadata": {
      "needs_background": "light"
     },
     "output_type": "display_data"
    }
   ],
   "source": [
    "df3 = df2.tolist()\n",
    "df3.extend(lst_output)\n",
    "plt.plot(df3[1700:])"
   ]
  },
  {
   "cell_type": "code",
   "execution_count": null,
   "id": "caf0b7a3",
   "metadata": {},
   "outputs": [],
   "source": []
  }
 ],
 "metadata": {
  "kernelspec": {
   "display_name": "Python 3 (ipykernel)",
   "language": "python",
   "name": "python3"
  },
  "language_info": {
   "codemirror_mode": {
    "name": "ipython",
    "version": 3
   },
   "file_extension": ".py",
   "mimetype": "text/x-python",
   "name": "python",
   "nbconvert_exporter": "python",
   "pygments_lexer": "ipython3",
   "version": "3.10.0"
  }
 },
 "nbformat": 4,
 "nbformat_minor": 5
}
